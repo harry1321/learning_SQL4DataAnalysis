{
 "cells": [
  {
   "cell_type": "markdown",
   "id": "1e0cba00",
   "metadata": {},
   "source": [
    "# SQL for Data Analyst\n",
    "- [Basic][1]\n",
    "- [Join][2]\n",
    "- [Aggregation][3]\n",
    "- [Subqueries][3]\n",
    "[1]:http://127.0.0.1:8888/notebooks/SQL4DA/Basic.ipynb\n",
    "[2]:http://127.0.0.1:8888/notebooks/SQL4DA/Join.ipynb\n",
    "[3]:http://127.0.0.1:8888/notebooks/SQL4DA/Aggregation.ipynb\n",
    "[4]:http://127.0.0.1:8888/notebooks/SQL4DA/Subqueries.ipynb"
   ]
  },
  {
   "cell_type": "markdown",
   "id": "338d6562",
   "metadata": {},
   "source": [
    "# SQL Subqueries & Temporary Tables\n",
    "Both subqueries and table expressions are methods for being able to write a query that creates a table, and then write a query that interacts with this newly created table. Sometimes the question you are trying to answer doesn’t have an answer when working directly with existing tables in database.  \n",
    "* [Subqueries][1]\n",
    "    - [Exercise][2]\n",
    "* [WITH CTE][3]\n",
    "    - [Exercise][4] \n",
    "[1]:#Subqueries\n",
    "[2]:#Exercise\n",
    "[3]:#WITH-(-Common-Table-Expression，CTE-)\n",
    "[4]:#Exercise-2"
   ]
  },
  {
   "cell_type": "code",
   "execution_count": 1,
   "id": "55faf26f",
   "metadata": {},
   "outputs": [],
   "source": [
    "%load_ext autoreload\n",
    "%autoreload 2\n",
    "from Query import *\n",
    "import seaborn as sns\n",
    "import matplotlib.pyplot as plt"
   ]
  },
  {
   "cell_type": "code",
   "execution_count": 2,
   "id": "05bdb431",
   "metadata": {},
   "outputs": [],
   "source": [
    "database = 'test'\n",
    "exercise = 'subquery.txt'"
   ]
  },
  {
   "cell_type": "code",
   "execution_count": 3,
   "id": "5dd288d4",
   "metadata": {},
   "outputs": [],
   "source": [
    "Query = query(database)\n",
    "#Query.get_table()\n",
    "#Query.sql2db('parch-and-posey.sql')\n",
    "Query.connect()"
   ]
  },
  {
   "cell_type": "markdown",
   "id": "d7513b70",
   "metadata": {},
   "source": [
    "## Subqueries\n",
    "Subqueries Whenever we need to use existing tables to `create a new table that we then want to query again`, this is an indication that we will need to use some sort of subquery.  \n",
    "#### Example\n",
    "```SQL\n",
    "  SELECT channel, AVG(event_count)\n",
    "  FROM \n",
    "  (SELECT\n",
    "    DATE_TRUNC('day', occurred_at) AS day,\n",
    "    COUNT(\\*) AS event_count,\n",
    "    channel\n",
    "  FROM web_events\n",
    "  GROUP BY 1,3)sub\n",
    "  GROUP BY 2\n",
    "```\n",
    "#### Well Formatted Query\n",
    "```SQL\n",
    "SELECT *\n",
    "  FROM (SELECT DATE_TRUNC('day',occurred_at) AS day,\n",
    "                  channel, COUNT(*) AS events\n",
    "        FROM web_events\n",
    "        GROUP BY 1,2\n",
    "        ORDER BY 3 DESC) sub;\n",
    "```"
   ]
  },
  {
   "cell_type": "code",
   "execution_count": 41,
   "id": "6585b676",
   "metadata": {},
   "outputs": [
    {
     "name": "stdout",
     "output_type": "stream",
     "text": [
      "SELECT channel, AVG(total)\n",
      "FROM\n",
      "(SELECT date(w.occurred_at) AS Date, w.channel, COUNT(*) total\n",
      "FROM web_events w\n",
      "GROUP BY 1, 2)sub\n",
      "GROUP BY 1\n",
      "ORDER BY 2 DESC\n"
     ]
    },
    {
     "data": {
      "text/html": [
       "<div>\n",
       "<style scoped>\n",
       "    .dataframe tbody tr th:only-of-type {\n",
       "        vertical-align: middle;\n",
       "    }\n",
       "\n",
       "    .dataframe tbody tr th {\n",
       "        vertical-align: top;\n",
       "    }\n",
       "\n",
       "    .dataframe thead th {\n",
       "        text-align: right;\n",
       "    }\n",
       "</style>\n",
       "<table border=\"1\" class=\"dataframe\">\n",
       "  <thead>\n",
       "    <tr style=\"text-align: right;\">\n",
       "      <th></th>\n",
       "      <th>channel</th>\n",
       "      <th>AVG(total)</th>\n",
       "    </tr>\n",
       "  </thead>\n",
       "  <tbody>\n",
       "    <tr>\n",
       "      <th>0</th>\n",
       "      <td>direct</td>\n",
       "      <td>4.896488</td>\n",
       "    </tr>\n",
       "    <tr>\n",
       "      <th>1</th>\n",
       "      <td>organic</td>\n",
       "      <td>1.667250</td>\n",
       "    </tr>\n",
       "    <tr>\n",
       "      <th>2</th>\n",
       "      <td>facebook</td>\n",
       "      <td>1.598347</td>\n",
       "    </tr>\n",
       "    <tr>\n",
       "      <th>3</th>\n",
       "      <td>adwords</td>\n",
       "      <td>1.570191</td>\n",
       "    </tr>\n",
       "    <tr>\n",
       "      <th>4</th>\n",
       "      <td>twitter</td>\n",
       "      <td>1.316667</td>\n",
       "    </tr>\n",
       "    <tr>\n",
       "      <th>5</th>\n",
       "      <td>banner</td>\n",
       "      <td>1.289973</td>\n",
       "    </tr>\n",
       "  </tbody>\n",
       "</table>\n",
       "</div>"
      ],
      "text/plain": [
       "    channel  AVG(total)\n",
       "0    direct    4.896488\n",
       "1   organic    1.667250\n",
       "2  facebook    1.598347\n",
       "3   adwords    1.570191\n",
       "4   twitter    1.316667\n",
       "5    banner    1.289973"
      ]
     },
     "execution_count": 41,
     "metadata": {},
     "output_type": "execute_result"
    }
   ],
   "source": [
    "com = readcom(exercise)\n",
    "result = Query.execute(com)\n",
    "result"
   ]
  },
  {
   "cell_type": "code",
   "execution_count": 48,
   "id": "3443d8a5",
   "metadata": {},
   "outputs": [
    {
     "name": "stdout",
     "output_type": "stream",
     "text": [
      "SELECT \n",
      "    strftime('%Y%m',o.occurred_at) AS Time, \n",
      "    AVG(o.standard_qty),\n",
      "    AVG(o.gloss_qty),\n",
      "    AVG(o.poster_qty)\n",
      "FROM orders o\n",
      "WHERE strftime('%Y%m',o.occurred_at) = \n",
      "(SELECT strftime('%Y%m',MIN(o.occurred_at)) min_month\n",
      "FROM orders o)\n",
      "GROUP BY 1\n"
     ]
    },
    {
     "data": {
      "text/html": [
       "<div>\n",
       "<style scoped>\n",
       "    .dataframe tbody tr th:only-of-type {\n",
       "        vertical-align: middle;\n",
       "    }\n",
       "\n",
       "    .dataframe tbody tr th {\n",
       "        vertical-align: top;\n",
       "    }\n",
       "\n",
       "    .dataframe thead th {\n",
       "        text-align: right;\n",
       "    }\n",
       "</style>\n",
       "<table border=\"1\" class=\"dataframe\">\n",
       "  <thead>\n",
       "    <tr style=\"text-align: right;\">\n",
       "      <th></th>\n",
       "      <th>Time</th>\n",
       "      <th>AVG(o.standard_qty)</th>\n",
       "      <th>AVG(o.gloss_qty)</th>\n",
       "      <th>AVG(o.poster_qty)</th>\n",
       "    </tr>\n",
       "  </thead>\n",
       "  <tbody>\n",
       "    <tr>\n",
       "      <th>0</th>\n",
       "      <td>201312</td>\n",
       "      <td>268.222222</td>\n",
       "      <td>208.949495</td>\n",
       "      <td>111.818182</td>\n",
       "    </tr>\n",
       "  </tbody>\n",
       "</table>\n",
       "</div>"
      ],
      "text/plain": [
       "     Time  AVG(o.standard_qty)  AVG(o.gloss_qty)  AVG(o.poster_qty)\n",
       "0  201312           268.222222        208.949495         111.818182"
      ]
     },
     "execution_count": 48,
     "metadata": {},
     "output_type": "execute_result"
    }
   ],
   "source": [
    "com = readcom(exercise)\n",
    "result = Query.execute(com)\n",
    "result"
   ]
  },
  {
   "cell_type": "markdown",
   "id": "cd50c820",
   "metadata": {},
   "source": [
    "## Exercise\n",
    "### 1. Provide the name of the sales_rep in each region with the largest amount of total_amt_usd sales.\n",
    "```SQL\n",
    "SELECT \n",
    "    sale_rep, region, MAX(sales)\n",
    "    FROM\n",
    "    (SELECT s.name sale_rep, r.name region, MAX(o.total_amt_usd) sales\n",
    "        FROM orders o\n",
    "        JOIN accounts a ON a.id = o.account_id\n",
    "        JOIN sales_reps s ON s.id = a.sales_rep_id\n",
    "        JOIN region r ON r.id = s.region_id\n",
    "        GROUP BY 1, 2)sub\n",
    "    GROUP BY 2\n",
    "    ORDER BY 1;\n",
    "```"
   ]
  },
  {
   "cell_type": "code",
   "execution_count": 53,
   "id": "1fc139b6",
   "metadata": {},
   "outputs": [
    {
     "name": "stdout",
     "output_type": "stream",
     "text": [
      "SELECT \n",
      "    sale_rep, region, MAX(sales)\n",
      "    FROM\n",
      "    (SELECT s.name sale_rep, r.name region, MAX(o.total_amt_usd) sales\n",
      "        FROM orders o\n",
      "        JOIN accounts a ON a.id = o.account_id\n",
      "        JOIN sales_reps s ON s.id = a.sales_rep_id\n",
      "        JOIN region r ON r.id = s.region_id\n",
      "        GROUP BY 1, 2)sub\n",
      "    GROUP BY 2\n",
      "    ORDER BY 1\n"
     ]
    },
    {
     "data": {
      "text/html": [
       "<div>\n",
       "<style scoped>\n",
       "    .dataframe tbody tr th:only-of-type {\n",
       "        vertical-align: middle;\n",
       "    }\n",
       "\n",
       "    .dataframe tbody tr th {\n",
       "        vertical-align: top;\n",
       "    }\n",
       "\n",
       "    .dataframe thead th {\n",
       "        text-align: right;\n",
       "    }\n",
       "</style>\n",
       "<table border=\"1\" class=\"dataframe\">\n",
       "  <thead>\n",
       "    <tr style=\"text-align: right;\">\n",
       "      <th></th>\n",
       "      <th>sale_rep</th>\n",
       "      <th>region</th>\n",
       "      <th>MAX(sales)</th>\n",
       "    </tr>\n",
       "  </thead>\n",
       "  <tbody>\n",
       "    <tr>\n",
       "      <th>0</th>\n",
       "      <td>Cliff Meints</td>\n",
       "      <td>Midwest</td>\n",
       "      <td>48675.90</td>\n",
       "    </tr>\n",
       "    <tr>\n",
       "      <th>1</th>\n",
       "      <td>Dawna Agnew</td>\n",
       "      <td>West</td>\n",
       "      <td>232207.07</td>\n",
       "    </tr>\n",
       "    <tr>\n",
       "      <th>2</th>\n",
       "      <td>Dorotha Seawell</td>\n",
       "      <td>Southeast</td>\n",
       "      <td>95005.82</td>\n",
       "    </tr>\n",
       "    <tr>\n",
       "      <th>3</th>\n",
       "      <td>Necole Victory</td>\n",
       "      <td>Northeast</td>\n",
       "      <td>93106.81</td>\n",
       "    </tr>\n",
       "  </tbody>\n",
       "</table>\n",
       "</div>"
      ],
      "text/plain": [
       "          sale_rep     region  MAX(sales)\n",
       "0     Cliff Meints    Midwest    48675.90\n",
       "1      Dawna Agnew       West   232207.07\n",
       "2  Dorotha Seawell  Southeast    95005.82\n",
       "3   Necole Victory  Northeast    93106.81"
      ]
     },
     "execution_count": 53,
     "metadata": {},
     "output_type": "execute_result"
    }
   ],
   "source": [
    "com = readcom(exercise)\n",
    "result = Query.execute(com)\n",
    "result"
   ]
  },
  {
   "cell_type": "markdown",
   "id": "2b938c77",
   "metadata": {},
   "source": [
    "### 2. For the region with the largest (sum) of sales total_amt_usd, how many total (count) orders were placed?\n",
    "```SQL\n",
    "SELECT \n",
    "    r.name region, COUNT(*) total_orders\n",
    "    FROM orders o\n",
    "    JOIN accounts a ON a.id = o.account_id\n",
    "    JOIN sales_reps s ON s.id = a.sales_rep_id\n",
    "    JOIN region r ON r.id = s.region_id\n",
    "    GROUP BY 1\n",
    "    HAVING SUM(o.total_amt_usd) =\n",
    "        (SELECT MAX(total_sales)\n",
    "            FROM\n",
    "            (SELECT r.name, SUM(o.total_amt_usd) total_sales\n",
    "                FROM orders o\n",
    "                JOIN accounts a ON a.id = o.account_id\n",
    "                JOIN sales_reps s ON s.id = a.sales_rep_id\n",
    "                JOIN region r ON r.id = s.region_id\n",
    "                GROUP BY 1\n",
    "            )sub\n",
    "        );\n",
    "```"
   ]
  },
  {
   "cell_type": "code",
   "execution_count": 65,
   "id": "711cf46c",
   "metadata": {},
   "outputs": [
    {
     "name": "stdout",
     "output_type": "stream",
     "text": [
      "SELECT \n",
      "    r.name region, COUNT(*) total_orders\n",
      "    FROM orders o\n",
      "    JOIN accounts a ON a.id = o.account_id\n",
      "    JOIN sales_reps s ON s.id = a.sales_rep_id\n",
      "    JOIN region r ON r.id = s.region_id\n",
      "    GROUP BY 1\n",
      "    HAVING SUM(o.total_amt_usd) =\n",
      "        (SELECT MAX(total_sales)\n",
      "            FROM\n",
      "            (SELECT r.name, SUM(o.total_amt_usd) total_sales\n",
      "                FROM orders o\n",
      "                JOIN accounts a ON a.id = o.account_id\n",
      "                JOIN sales_reps s ON s.id = a.sales_rep_id\n",
      "                JOIN region r ON r.id = s.region_id\n",
      "                GROUP BY 1\n",
      "            )sub\n",
      "        )\n"
     ]
    },
    {
     "data": {
      "text/html": [
       "<div>\n",
       "<style scoped>\n",
       "    .dataframe tbody tr th:only-of-type {\n",
       "        vertical-align: middle;\n",
       "    }\n",
       "\n",
       "    .dataframe tbody tr th {\n",
       "        vertical-align: top;\n",
       "    }\n",
       "\n",
       "    .dataframe thead th {\n",
       "        text-align: right;\n",
       "    }\n",
       "</style>\n",
       "<table border=\"1\" class=\"dataframe\">\n",
       "  <thead>\n",
       "    <tr style=\"text-align: right;\">\n",
       "      <th></th>\n",
       "      <th>region</th>\n",
       "      <th>total_orders</th>\n",
       "    </tr>\n",
       "  </thead>\n",
       "  <tbody>\n",
       "    <tr>\n",
       "      <th>0</th>\n",
       "      <td>Northeast</td>\n",
       "      <td>2357</td>\n",
       "    </tr>\n",
       "  </tbody>\n",
       "</table>\n",
       "</div>"
      ],
      "text/plain": [
       "      region  total_orders\n",
       "0  Northeast          2357"
      ]
     },
     "execution_count": 65,
     "metadata": {},
     "output_type": "execute_result"
    }
   ],
   "source": [
    "com = readcom(exercise)\n",
    "result = Query.execute(com)\n",
    "result"
   ]
  },
  {
   "cell_type": "markdown",
   "id": "bc9d48c1",
   "metadata": {},
   "source": [
    "### 3. How many accounts had more total purchases than the account name which has bought the most standard_qty paper throughout their lifetime as a customer?\n",
    "```SQL\n",
    "SELECT a.name\n",
    "    FROM accounts a\n",
    "    JOIN orders o ON o.account_id = a.id\n",
    "    HAVING SUM(o.total) > \n",
    "            (SELECT SUM(o.total) total_purchases\n",
    "                FROM accounts a\n",
    "                JOIN orders o ON o.account_id = a.id\n",
    "                WHERE a.name =\n",
    "                    (SELECT name, MAX(total_std)\n",
    "                        FROM\n",
    "                        (SELECT a.name, SUM(o.standard_qty) total_std\n",
    "                            FROM accounts a\n",
    "                            JOIN orders o ON o.account_id = a.id\n",
    "                            GROUP BY 1\n",
    "                        )sub\n",
    "                        GROUP BY 1\n",
    "                    )\n",
    "            )\n",
    "```\n",
    "\n",
    "```SQL\n",
    "SELECT COUNT(*)\n",
    "    FROM\n",
    "    (SELECT a.name, SUM(o.total)\n",
    "        FROM accounts a\n",
    "        JOIN orders o ON o.account_id = a.id\n",
    "        GROUP BY 1\n",
    "        HAVING SUM(o.total) > \n",
    "                            (SELECT total\n",
    "                                FROM\n",
    "                                (SELECT a.name acc_name, SUM(o.standard_qty) total_std, SUM(o.total) total\n",
    "                                    FROM accounts a\n",
    "                                    JOIN orders o ON o.account_id = a.id\n",
    "                                    GROUP BY 1\n",
    "                                    ORDER BY 2 DESC\n",
    "                                    LIMIT 1\n",
    "                                )sub\n",
    "                            )\n",
    "    )sub;\n",
    "```"
   ]
  },
  {
   "cell_type": "code",
   "execution_count": 87,
   "id": "a70d867b",
   "metadata": {},
   "outputs": [
    {
     "name": "stdout",
     "output_type": "stream",
     "text": [
      "SELECT COUNT(*)\n",
      "    FROM\n",
      "    (SELECT a.name, SUM(o.total)\n",
      "        FROM accounts a\n",
      "        JOIN orders o ON o.account_id = a.id\n",
      "        GROUP BY 1\n",
      "        HAVING SUM(o.total) > \n",
      "                            (SELECT total\n",
      "                                FROM\n",
      "                                (SELECT a.name acc_name, SUM(o.standard_qty) total_std, SUM(o.total) total\n",
      "                                    FROM accounts a\n",
      "                                    JOIN orders o ON o.account_id = a.id\n",
      "                                    GROUP BY 1\n",
      "                                    ORDER BY 2 DESC\n",
      "                                    LIMIT 1\n",
      "                                )sub\n",
      "                            )\n",
      "    )sub\n"
     ]
    },
    {
     "data": {
      "text/html": [
       "<div>\n",
       "<style scoped>\n",
       "    .dataframe tbody tr th:only-of-type {\n",
       "        vertical-align: middle;\n",
       "    }\n",
       "\n",
       "    .dataframe tbody tr th {\n",
       "        vertical-align: top;\n",
       "    }\n",
       "\n",
       "    .dataframe thead th {\n",
       "        text-align: right;\n",
       "    }\n",
       "</style>\n",
       "<table border=\"1\" class=\"dataframe\">\n",
       "  <thead>\n",
       "    <tr style=\"text-align: right;\">\n",
       "      <th></th>\n",
       "      <th>COUNT(*)</th>\n",
       "    </tr>\n",
       "  </thead>\n",
       "  <tbody>\n",
       "    <tr>\n",
       "      <th>0</th>\n",
       "      <td>3</td>\n",
       "    </tr>\n",
       "  </tbody>\n",
       "</table>\n",
       "</div>"
      ],
      "text/plain": [
       "   COUNT(*)\n",
       "0         3"
      ]
     },
     "execution_count": 87,
     "metadata": {},
     "output_type": "execute_result"
    }
   ],
   "source": [
    "com = readcom(exercise)\n",
    "result = Query.execute(com)\n",
    "result"
   ]
  },
  {
   "cell_type": "markdown",
   "id": "a544f778",
   "metadata": {},
   "source": [
    "### 4. For the customer that spent the most (in total over their lifetime as a customer) total_amt_usd, how many web_events did they have for each channel?\n",
    "```SQL\n",
    "SELECT w.channel, COUNT(*) events\n",
    "    FROM web_events w\n",
    "    JOIN accounts a ON a.id = w.account_id\n",
    "    WHERE a.name =\n",
    "    (SELECT acc_name\n",
    "        FROM\n",
    "        (SELECT a.name acc_name, SUM(o.total_amt_usd) total_sales\n",
    "            FROM accounts a\n",
    "            JOIN orders o ON o.account_id = a.id\n",
    "            GROUP BY 1\n",
    "            ORDER BY 2 DESC\n",
    "            LIMIT 1\n",
    "        )sub\n",
    "    )\n",
    "    GROUP BY 1\n",
    "    ORDER BY events DESC;\n",
    "```"
   ]
  },
  {
   "cell_type": "code",
   "execution_count": 93,
   "id": "9137531b",
   "metadata": {},
   "outputs": [
    {
     "name": "stdout",
     "output_type": "stream",
     "text": [
      "SELECT w.channel, COUNT(*) events\n",
      "    FROM web_events w\n",
      "    JOIN accounts a ON a.id = w.account_id\n",
      "    WHERE a.name =\n",
      "    (SELECT acc_name\n",
      "        FROM\n",
      "        (SELECT a.name acc_name, SUM(o.total_amt_usd) total_sales\n",
      "            FROM accounts a\n",
      "            JOIN orders o ON o.account_id = a.id\n",
      "            GROUP BY 1\n",
      "            ORDER BY 2 DESC\n",
      "            LIMIT 1\n",
      "        )sub\n",
      "    )\n",
      "    GROUP BY 1\n",
      "    ORDER BY events DESC\n"
     ]
    },
    {
     "data": {
      "text/html": [
       "<div>\n",
       "<style scoped>\n",
       "    .dataframe tbody tr th:only-of-type {\n",
       "        vertical-align: middle;\n",
       "    }\n",
       "\n",
       "    .dataframe tbody tr th {\n",
       "        vertical-align: top;\n",
       "    }\n",
       "\n",
       "    .dataframe thead th {\n",
       "        text-align: right;\n",
       "    }\n",
       "</style>\n",
       "<table border=\"1\" class=\"dataframe\">\n",
       "  <thead>\n",
       "    <tr style=\"text-align: right;\">\n",
       "      <th></th>\n",
       "      <th>channel</th>\n",
       "      <th>events</th>\n",
       "    </tr>\n",
       "  </thead>\n",
       "  <tbody>\n",
       "    <tr>\n",
       "      <th>0</th>\n",
       "      <td>direct</td>\n",
       "      <td>44</td>\n",
       "    </tr>\n",
       "    <tr>\n",
       "      <th>1</th>\n",
       "      <td>organic</td>\n",
       "      <td>13</td>\n",
       "    </tr>\n",
       "    <tr>\n",
       "      <th>2</th>\n",
       "      <td>adwords</td>\n",
       "      <td>12</td>\n",
       "    </tr>\n",
       "    <tr>\n",
       "      <th>3</th>\n",
       "      <td>facebook</td>\n",
       "      <td>11</td>\n",
       "    </tr>\n",
       "    <tr>\n",
       "      <th>4</th>\n",
       "      <td>twitter</td>\n",
       "      <td>5</td>\n",
       "    </tr>\n",
       "    <tr>\n",
       "      <th>5</th>\n",
       "      <td>banner</td>\n",
       "      <td>4</td>\n",
       "    </tr>\n",
       "  </tbody>\n",
       "</table>\n",
       "</div>"
      ],
      "text/plain": [
       "    channel  events\n",
       "0    direct      44\n",
       "1   organic      13\n",
       "2   adwords      12\n",
       "3  facebook      11\n",
       "4   twitter       5\n",
       "5    banner       4"
      ]
     },
     "execution_count": 93,
     "metadata": {},
     "output_type": "execute_result"
    }
   ],
   "source": [
    "com = readcom(exercise)\n",
    "result = Query.execute(com)\n",
    "result"
   ]
  },
  {
   "cell_type": "markdown",
   "id": "c44df9f8",
   "metadata": {},
   "source": [
    "### 5. What is the lifetime average amount spent in terms of total_amt_usd for the top 10 total spending accounts?\n",
    "```SQL\n",
    "SELECT AVG(total_sales) avg_of_top10\n",
    "    FROM\n",
    "    (SELECT a.name acc_name, SUM(o.total_amt_usd) total_sales\n",
    "        FROM accounts a\n",
    "        JOIN orders o ON o.account_id = a.id\n",
    "        GROUP BY 1\n",
    "        ORDER BY 2 DESC\n",
    "        LIMIT 10)top_ten;\n",
    "```"
   ]
  },
  {
   "cell_type": "code",
   "execution_count": 95,
   "id": "ba3b489a",
   "metadata": {},
   "outputs": [
    {
     "name": "stdout",
     "output_type": "stream",
     "text": [
      "SELECT AVG(total_sales) avg_of_top10\n",
      " FROM\n",
      " (SELECT a.name acc_name, SUM(o.total_amt_usd) total_sales\n",
      "     FROM accounts a\n",
      "     JOIN orders o ON o.account_id = a.id\n",
      "     GROUP BY 1\n",
      "     ORDER BY 2 DESC\n",
      "     LIMIT 10)top_ten\n"
     ]
    },
    {
     "data": {
      "text/html": [
       "<div>\n",
       "<style scoped>\n",
       "    .dataframe tbody tr th:only-of-type {\n",
       "        vertical-align: middle;\n",
       "    }\n",
       "\n",
       "    .dataframe tbody tr th {\n",
       "        vertical-align: top;\n",
       "    }\n",
       "\n",
       "    .dataframe thead th {\n",
       "        text-align: right;\n",
       "    }\n",
       "</style>\n",
       "<table border=\"1\" class=\"dataframe\">\n",
       "  <thead>\n",
       "    <tr style=\"text-align: right;\">\n",
       "      <th></th>\n",
       "      <th>avg_of_top10</th>\n",
       "    </tr>\n",
       "  </thead>\n",
       "  <tbody>\n",
       "    <tr>\n",
       "      <th>0</th>\n",
       "      <td>304846.969</td>\n",
       "    </tr>\n",
       "  </tbody>\n",
       "</table>\n",
       "</div>"
      ],
      "text/plain": [
       "   avg_of_top10\n",
       "0    304846.969"
      ]
     },
     "execution_count": 95,
     "metadata": {},
     "output_type": "execute_result"
    }
   ],
   "source": [
    "com = readcom(exercise)\n",
    "result = Query.execute(com)\n",
    "result"
   ]
  },
  {
   "cell_type": "markdown",
   "id": "cb5c57aa",
   "metadata": {},
   "source": [
    "### 6. What is the lifetime average amount spent in terms of total_amt_usd, including only the companies that spent more per order, on average, than the average of all orders.\n",
    "```SQL\n",
    "SELECT AVG(company_avg)\n",
    "    FROM\n",
    "    (SELECT o.account_id target, AVG(o.total_amt_usd) company_avg\n",
    "        FROM orders o\n",
    "        GROUP BY 1\n",
    "        HAVING AVG(o.total_amt_usd) >\n",
    "        (SELECT AVG(o.total_amt_usd) avg_sales\n",
    "             FROM orders o)\n",
    "    );\n",
    "```"
   ]
  },
  {
   "cell_type": "code",
   "execution_count": 111,
   "id": "36dfd57e",
   "metadata": {},
   "outputs": [
    {
     "name": "stdout",
     "output_type": "stream",
     "text": [
      "SELECT AVG(company_avg)\n",
      "    FROM\n",
      "    (SELECT o.account_id target, AVG(o.total_amt_usd) company_avg\n",
      "        FROM orders o\n",
      "        GROUP BY 1\n",
      "        HAVING AVG(o.total_amt_usd) >\n",
      "        (SELECT AVG(o.total_amt_usd) avg_sales\n",
      "             FROM orders o)\n",
      "    )\n"
     ]
    },
    {
     "data": {
      "text/html": [
       "<div>\n",
       "<style scoped>\n",
       "    .dataframe tbody tr th:only-of-type {\n",
       "        vertical-align: middle;\n",
       "    }\n",
       "\n",
       "    .dataframe tbody tr th {\n",
       "        vertical-align: top;\n",
       "    }\n",
       "\n",
       "    .dataframe thead th {\n",
       "        text-align: right;\n",
       "    }\n",
       "</style>\n",
       "<table border=\"1\" class=\"dataframe\">\n",
       "  <thead>\n",
       "    <tr style=\"text-align: right;\">\n",
       "      <th></th>\n",
       "      <th>AVG(company_avg)</th>\n",
       "    </tr>\n",
       "  </thead>\n",
       "  <tbody>\n",
       "    <tr>\n",
       "      <th>0</th>\n",
       "      <td>4721.139744</td>\n",
       "    </tr>\n",
       "  </tbody>\n",
       "</table>\n",
       "</div>"
      ],
      "text/plain": [
       "   AVG(company_avg)\n",
       "0       4721.139744"
      ]
     },
     "execution_count": 111,
     "metadata": {},
     "output_type": "execute_result"
    }
   ],
   "source": [
    "com = readcom(exercise)\n",
    "result = Query.execute(com)\n",
    "result"
   ]
  },
  {
   "cell_type": "markdown",
   "id": "a2304624",
   "metadata": {},
   "source": [
    "# WITH ( Common Table Expression，CTE )\n",
    "\n",
    "The `WITH` statement is often called a Common Table Expression or CTE. Though these expressions serve the exact <mark>same purpose as subqueries</mark>, they are <mark>more common</mark> in practice, as they tend to be <mark>cleaner</mark> for a future reader to follow the logic.\n",
    "\n",
    "The general sequence of steps to execute a WITH clause is:\n",
    "1. Initiate the `WITH`\n",
    "2. Specify the expression name for the to-be-defined query.\n",
    "3. Optional: Specify column names separated by commas.\n",
    "4. After assigning the name of the expression, enter the AS command. The expressions, in this case, are the named result sets that you will use later in the main query to refer to the CTE.\n",
    "5. Write the query required to produce the desired temporary data set.\n",
    "6. If working with more than one CTEs or `WITH` clauses, initiate each subsequent one separated by a comma and repeat steps 2-4. Such an arrangement is also called a nested WITH clause.\n",
    "7. Reference the expressions defined above in a subsequent query using `SELECT`, `INSERT`, `UPDATE`, `DELETE`, or `MERGE`\n",
    "\n",
    "#### Quick Example\n",
    "QUESTION: You need to find the average number of events for each channel per day.\n",
    "SOLUTION:\n",
    "```SQL\n",
    "--without with satement\n",
    "SELECT channel, AVG(events) AS average_events\n",
    "FROM (\n",
    "    SELECT DATE_TRUNC('day',occurred_at) AS day, channel, COUNT(*) as events\n",
    "    FROM web_events\n",
    "    GROUP BY 1,2\n",
    "    ) sub\n",
    "GROUP BY channel\n",
    "ORDER BY 2 DESC;\n",
    "\n",
    "--rewrite with satement\n",
    "WITH events AS (\n",
    "              SELECT DATE_TRUNC('day',occurred_at) AS day, channel, COUNT(*) as events\n",
    "              FROM web_events\n",
    "              GROUP BY 1,2\n",
    "              )\n",
    "\n",
    "SELECT channel, AVG(events) AS average_events\n",
    "FROM events\n",
    "GROUP BY channel\n",
    "ORDER BY 2 DESC;\n",
    "```"
   ]
  },
  {
   "cell_type": "markdown",
   "id": "0f701c19",
   "metadata": {},
   "source": [
    "## Exercise 2\n",
    "### 1. Provide the name of the sales_rep in each region with the largest amount of total_amt_usd sales.\n",
    "```SQL\n",
    "WITH sum AS(\n",
    "     SELECT s.name s_name, r.name region, SUM(o.total_amt_usd) sum\n",
    "        FROM accounts a\n",
    "        JOIN orders o ON o.account_id = a.id\n",
    "        JOIN sales_reps s ON a.sales_rep_id = s.id\n",
    "        JOIN region r ON s.region_id = r.id\n",
    "        GROUP BY 1, 2\n",
    "),\n",
    "max AS(\n",
    "    SELECT region, MAX(sum.sum) largest_sales\n",
    "    FROM sum\n",
    "    GROUP BY 1\n",
    ")\n",
    "SELECT sum.s_name, sum.region, sum.sum\n",
    "FROM (sum)\n",
    "JOIN (max)\n",
    "ON max.largest_sales = sum.sum AND max.region = sum.region;\n",
    "```"
   ]
  },
  {
   "cell_type": "code",
   "execution_count": 10,
   "id": "aecf8a1f",
   "metadata": {},
   "outputs": [
    {
     "name": "stdout",
     "output_type": "stream",
     "text": [
      "WITH sum AS(\n",
      "     SELECT s.name s_name, r.name region, SUM(o.total_amt_usd) sum\n",
      "        FROM accounts a\n",
      "        JOIN orders o ON o.account_id = a.id\n",
      "        JOIN sales_reps s ON a.sales_rep_id = s.id\n",
      "        JOIN region r ON s.region_id = r.id\n",
      "        GROUP BY 1, 2\n",
      "),\n",
      "max AS(\n",
      "    SELECT region, MAX(sum.sum) largest_sales\n",
      "    FROM sum\n",
      "    GROUP BY 1\n",
      ")\n",
      "SELECT sum.s_name, sum.region, sum.sum\n",
      "FROM (sum)\n",
      "JOIN (max)\n",
      "ON max.largest_sales = sum.sum AND max.region = sum.region\n"
     ]
    },
    {
     "data": {
      "text/html": [
       "<div>\n",
       "<style scoped>\n",
       "    .dataframe tbody tr th:only-of-type {\n",
       "        vertical-align: middle;\n",
       "    }\n",
       "\n",
       "    .dataframe tbody tr th {\n",
       "        vertical-align: top;\n",
       "    }\n",
       "\n",
       "    .dataframe thead th {\n",
       "        text-align: right;\n",
       "    }\n",
       "</style>\n",
       "<table border=\"1\" class=\"dataframe\">\n",
       "  <thead>\n",
       "    <tr style=\"text-align: right;\">\n",
       "      <th></th>\n",
       "      <th>s_name</th>\n",
       "      <th>region</th>\n",
       "      <th>sum</th>\n",
       "    </tr>\n",
       "  </thead>\n",
       "  <tbody>\n",
       "    <tr>\n",
       "      <th>0</th>\n",
       "      <td>Charles Bidwell</td>\n",
       "      <td>Midwest</td>\n",
       "      <td>675637.19</td>\n",
       "    </tr>\n",
       "    <tr>\n",
       "      <th>1</th>\n",
       "      <td>Earlie Schleusner</td>\n",
       "      <td>Southeast</td>\n",
       "      <td>1098137.72</td>\n",
       "    </tr>\n",
       "    <tr>\n",
       "      <th>2</th>\n",
       "      <td>Georgianna Chisholm</td>\n",
       "      <td>West</td>\n",
       "      <td>886244.12</td>\n",
       "    </tr>\n",
       "    <tr>\n",
       "      <th>3</th>\n",
       "      <td>Tia Amato</td>\n",
       "      <td>Northeast</td>\n",
       "      <td>1010690.60</td>\n",
       "    </tr>\n",
       "  </tbody>\n",
       "</table>\n",
       "</div>"
      ],
      "text/plain": [
       "                s_name     region         sum\n",
       "0      Charles Bidwell    Midwest   675637.19\n",
       "1    Earlie Schleusner  Southeast  1098137.72\n",
       "2  Georgianna Chisholm       West   886244.12\n",
       "3            Tia Amato  Northeast  1010690.60"
      ]
     },
     "execution_count": 10,
     "metadata": {},
     "output_type": "execute_result"
    }
   ],
   "source": [
    "com = readcom(exercise)\n",
    "result = Query.execute(com)\n",
    "result"
   ]
  },
  {
   "cell_type": "markdown",
   "id": "58eab8d2",
   "metadata": {},
   "source": [
    "### 2. For the region with the largest sales total_amt_usd, how many total orders were placed?\n",
    "```SQL\n",
    "WITH total AS(\n",
    "    SELECT r.name, SUM(o.total_amt_usd) total_sales\n",
    "        FROM orders o\n",
    "        JOIN accounts a ON a.id = o.account_id\n",
    "        JOIN sales_reps s ON s.id = a.sales_rep_id\n",
    "        JOIN region r ON r.id = s.region_id\n",
    "        GROUP BY 1\n",
    "),\n",
    "    largest AS(\n",
    "    SELECT MAX(total_sales)\n",
    "        FROM total\n",
    ")\n",
    "SELECT \n",
    "    r.name region, COUNT(*) total_orders\n",
    "    FROM orders o\n",
    "    JOIN accounts a ON a.id = o.account_id\n",
    "    JOIN sales_reps s ON s.id = a.sales_rep_id\n",
    "    JOIN region r ON r.id = s.region_id\n",
    "    GROUP BY 1\n",
    "    HAVING SUM(o.total_amt_usd) = (SELECT * FROM largest);\n",
    "```"
   ]
  },
  {
   "cell_type": "code",
   "execution_count": 6,
   "id": "5dbb5e8c",
   "metadata": {},
   "outputs": [
    {
     "name": "stdout",
     "output_type": "stream",
     "text": [
      "WITH total AS(\n",
      "    SELECT r.name, SUM(o.total_amt_usd) total_sales\n",
      "        FROM orders o\n",
      "        JOIN accounts a ON a.id = o.account_id\n",
      "        JOIN sales_reps s ON s.id = a.sales_rep_id\n",
      "        JOIN region r ON r.id = s.region_id\n",
      "        GROUP BY 1\n",
      "),\n",
      "    largest AS(\n",
      "    SELECT MAX(total_sales)\n",
      "        FROM total\n",
      ")\n",
      "SELECT \n",
      "    r.name region, COUNT(*) total_orders\n",
      "    FROM orders o\n",
      "    JOIN accounts a ON a.id = o.account_id\n",
      "    JOIN sales_reps s ON s.id = a.sales_rep_id\n",
      "    JOIN region r ON r.id = s.region_id\n",
      "    GROUP BY 1\n",
      "    HAVING SUM(o.total_amt_usd) = (SELECT * FROM largest)\n"
     ]
    },
    {
     "data": {
      "text/html": [
       "<div>\n",
       "<style scoped>\n",
       "    .dataframe tbody tr th:only-of-type {\n",
       "        vertical-align: middle;\n",
       "    }\n",
       "\n",
       "    .dataframe tbody tr th {\n",
       "        vertical-align: top;\n",
       "    }\n",
       "\n",
       "    .dataframe thead th {\n",
       "        text-align: right;\n",
       "    }\n",
       "</style>\n",
       "<table border=\"1\" class=\"dataframe\">\n",
       "  <thead>\n",
       "    <tr style=\"text-align: right;\">\n",
       "      <th></th>\n",
       "      <th>region</th>\n",
       "      <th>total_orders</th>\n",
       "    </tr>\n",
       "  </thead>\n",
       "  <tbody>\n",
       "    <tr>\n",
       "      <th>0</th>\n",
       "      <td>Northeast</td>\n",
       "      <td>2357</td>\n",
       "    </tr>\n",
       "  </tbody>\n",
       "</table>\n",
       "</div>"
      ],
      "text/plain": [
       "      region  total_orders\n",
       "0  Northeast          2357"
      ]
     },
     "execution_count": 6,
     "metadata": {},
     "output_type": "execute_result"
    }
   ],
   "source": [
    "com = readcom(exercise)\n",
    "result = Query.execute(com)\n",
    "result"
   ]
  },
  {
   "cell_type": "markdown",
   "id": "345efffe",
   "metadata": {},
   "source": [
    "3. How many accounts had more total purchases than the account name which has bought the most standard_qty paper throughout their lifetime as a customer?\n",
    "```SQL\n",
    "WITH most AS(\n",
    "    SELECT o.account_id id, SUM(o.standard_qty) total_std, SUM(o.total) total\n",
    "    FROM orders o\n",
    "    GROUP BY 1\n",
    "    ORDER BY 2 DESC\n",
    "    LIMIT 1\n",
    "),\n",
    "num AS(\n",
    "    SELECT a.id\n",
    "    FROM accounts a\n",
    "    JOIN orders o ON o.account_id = a.id\n",
    "    GROUP BY 1\n",
    "    HAVING SUM(o.total) > (SELECT total FROM most)\n",
    ")\n",
    "SELECT COUNT(*) FROM num;\n",
    "```"
   ]
  },
  {
   "cell_type": "code",
   "execution_count": 23,
   "id": "f4750ace",
   "metadata": {},
   "outputs": [
    {
     "name": "stdout",
     "output_type": "stream",
     "text": [
      "WITH most AS(\n",
      "    SELECT o.account_id id, SUM(o.standard_qty) total_std, SUM(o.total) total\n",
      "    FROM orders o\n",
      "    GROUP BY 1\n",
      "    ORDER BY 2 DESC\n",
      "    LIMIT 1\n",
      "),\n",
      "num AS(\n",
      "    SELECT a.id\n",
      "    FROM accounts a\n",
      "    JOIN orders o ON o.account_id = a.id\n",
      "    GROUP BY 1\n",
      "    HAVING SUM(o.total) > (SELECT total FROM most)\n",
      ")\n",
      "SELECT COUNT(*) FROM num\n"
     ]
    },
    {
     "data": {
      "text/html": [
       "<div>\n",
       "<style scoped>\n",
       "    .dataframe tbody tr th:only-of-type {\n",
       "        vertical-align: middle;\n",
       "    }\n",
       "\n",
       "    .dataframe tbody tr th {\n",
       "        vertical-align: top;\n",
       "    }\n",
       "\n",
       "    .dataframe thead th {\n",
       "        text-align: right;\n",
       "    }\n",
       "</style>\n",
       "<table border=\"1\" class=\"dataframe\">\n",
       "  <thead>\n",
       "    <tr style=\"text-align: right;\">\n",
       "      <th></th>\n",
       "      <th>COUNT(*)</th>\n",
       "    </tr>\n",
       "  </thead>\n",
       "  <tbody>\n",
       "    <tr>\n",
       "      <th>0</th>\n",
       "      <td>3</td>\n",
       "    </tr>\n",
       "  </tbody>\n",
       "</table>\n",
       "</div>"
      ],
      "text/plain": [
       "   COUNT(*)\n",
       "0         3"
      ]
     },
     "execution_count": 23,
     "metadata": {},
     "output_type": "execute_result"
    }
   ],
   "source": [
    "com = readcom(exercise)\n",
    "result = Query.execute(com)\n",
    "result"
   ]
  },
  {
   "cell_type": "markdown",
   "id": "8a8aec20",
   "metadata": {},
   "source": [
    "4. For the customer that spent the most (in total over their lifetime as a customer) total_amt_usd, how many web_events did they have for each channel?\n",
    "```SQL\n",
    "WITH most AS(\n",
    "    SELECT a.name name, SUM(o.total_amt_usd)\n",
    "    FROM accounts a\n",
    "    JOIN orders o ON o.account_id = a.id\n",
    "    GROUP BY 1\n",
    "    ORDER BY 2 DESC\n",
    "    LIMIT 1\n",
    ")\n",
    "SELECT w.channel, COUNT(*) events_num\n",
    "    FROM web_events w\n",
    "    JOIN accounts a ON a.id = w.account_id\n",
    "    WHERE a.name = (SELECT most.name FROM most)\n",
    "GROUP BY 1\n",
    "ORDER BY 2 DESC;\n",
    "```"
   ]
  },
  {
   "cell_type": "code",
   "execution_count": 25,
   "id": "a3985e6e",
   "metadata": {},
   "outputs": [
    {
     "name": "stdout",
     "output_type": "stream",
     "text": [
      "WITH most AS(\n",
      "    SELECT a.name name, SUM(o.total_amt_usd)\n",
      "    FROM accounts a\n",
      "    JOIN orders o ON o.account_id = a.id\n",
      "    GROUP BY 1\n",
      "    ORDER BY 2 DESC\n",
      "    LIMIT 1\n",
      ")\n",
      "SELECT w.channel, COUNT(*)\n",
      "FROM web_events w\n",
      "JOIN accounts a ON a.id = w.account_id\n",
      "WHERE a.name = (SELECT most.name FROM most)\n",
      "GROUP BY 1\n",
      "ORDER BY 2 DESC\n"
     ]
    },
    {
     "data": {
      "text/html": [
       "<div>\n",
       "<style scoped>\n",
       "    .dataframe tbody tr th:only-of-type {\n",
       "        vertical-align: middle;\n",
       "    }\n",
       "\n",
       "    .dataframe tbody tr th {\n",
       "        vertical-align: top;\n",
       "    }\n",
       "\n",
       "    .dataframe thead th {\n",
       "        text-align: right;\n",
       "    }\n",
       "</style>\n",
       "<table border=\"1\" class=\"dataframe\">\n",
       "  <thead>\n",
       "    <tr style=\"text-align: right;\">\n",
       "      <th></th>\n",
       "      <th>channel</th>\n",
       "      <th>COUNT(*)</th>\n",
       "    </tr>\n",
       "  </thead>\n",
       "  <tbody>\n",
       "    <tr>\n",
       "      <th>0</th>\n",
       "      <td>direct</td>\n",
       "      <td>44</td>\n",
       "    </tr>\n",
       "    <tr>\n",
       "      <th>1</th>\n",
       "      <td>organic</td>\n",
       "      <td>13</td>\n",
       "    </tr>\n",
       "    <tr>\n",
       "      <th>2</th>\n",
       "      <td>adwords</td>\n",
       "      <td>12</td>\n",
       "    </tr>\n",
       "    <tr>\n",
       "      <th>3</th>\n",
       "      <td>facebook</td>\n",
       "      <td>11</td>\n",
       "    </tr>\n",
       "    <tr>\n",
       "      <th>4</th>\n",
       "      <td>twitter</td>\n",
       "      <td>5</td>\n",
       "    </tr>\n",
       "    <tr>\n",
       "      <th>5</th>\n",
       "      <td>banner</td>\n",
       "      <td>4</td>\n",
       "    </tr>\n",
       "  </tbody>\n",
       "</table>\n",
       "</div>"
      ],
      "text/plain": [
       "    channel  COUNT(*)\n",
       "0    direct        44\n",
       "1   organic        13\n",
       "2   adwords        12\n",
       "3  facebook        11\n",
       "4   twitter         5\n",
       "5    banner         4"
      ]
     },
     "execution_count": 25,
     "metadata": {},
     "output_type": "execute_result"
    }
   ],
   "source": [
    "com = readcom(exercise)\n",
    "result = Query.execute(com)\n",
    "result"
   ]
  },
  {
   "cell_type": "markdown",
   "id": "6030651d",
   "metadata": {},
   "source": [
    "5. What is the lifetime average amount spent in terms of total_amt_usd for the top 10 total spending accounts?"
   ]
  },
  {
   "cell_type": "code",
   "execution_count": null,
   "id": "69b3153b",
   "metadata": {},
   "outputs": [],
   "source": [
    "com = readcom(exercise)\n",
    "result = Query.execute(com)\n",
    "result"
   ]
  },
  {
   "cell_type": "markdown",
   "id": "d208a484",
   "metadata": {},
   "source": [
    "6. What is the lifetime average amount spent in terms of total_amt_usd, including only the companies that spent more per order, on average, than the average of all orders."
   ]
  },
  {
   "cell_type": "code",
   "execution_count": null,
   "id": "d70fa0f0",
   "metadata": {},
   "outputs": [],
   "source": [
    "com = readcom(exercise)\n",
    "result = Query.execute(com)\n",
    "result"
   ]
  }
 ],
 "metadata": {
  "kernelspec": {
   "display_name": "Python 3 (ipykernel)",
   "language": "python",
   "name": "python3"
  },
  "language_info": {
   "codemirror_mode": {
    "name": "ipython",
    "version": 3
   },
   "file_extension": ".py",
   "mimetype": "text/x-python",
   "name": "python",
   "nbconvert_exporter": "python",
   "pygments_lexer": "ipython3",
   "version": "3.7.6"
  }
 },
 "nbformat": 4,
 "nbformat_minor": 5
}
