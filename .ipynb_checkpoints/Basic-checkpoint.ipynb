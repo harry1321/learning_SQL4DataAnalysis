{
 "cells": [
  {
   "cell_type": "markdown",
   "id": "03ebc3fe",
   "metadata": {},
   "source": [
    "# SQL for Data Analyst\n",
    "- [Basic][1]\n",
    "- [Join][2]\n",
    "- [Aggregation][3]\n",
    "[1]:http://127.0.0.1:8888/notebooks/SQL4DA/Basic.ipynb\n",
    "[2]:http://127.0.0.1:8888/notebooks/SQL4DA/Join.ipynb\n",
    "[3]:http://127.0.0.1:8888/notebooks/SQL4DA/Aggregation.ipynb"
   ]
  },
  {
   "cell_type": "code",
   "execution_count": null,
   "id": "f1e54686",
   "metadata": {},
   "outputs": [],
   "source": [
    "%load_ext autoreload\n",
    "%autoreload 2\n",
    "from Query import *"
   ]
  },
  {
   "cell_type": "code",
   "execution_count": null,
   "id": "837e6f89",
   "metadata": {},
   "outputs": [],
   "source": [
    "Query = query('test')\n",
    "#Query.get_table()\n",
    "#Query.sql2db('parch-and-posey.sql')\n",
    "Query.connect()"
   ]
  }
 ],
 "metadata": {
  "kernelspec": {
   "display_name": "Python 3 (ipykernel)",
   "language": "python",
   "name": "python3"
  },
  "language_info": {
   "codemirror_mode": {
    "name": "ipython",
    "version": 3
   },
   "file_extension": ".py",
   "mimetype": "text/x-python",
   "name": "python",
   "nbconvert_exporter": "python",
   "pygments_lexer": "ipython3",
   "version": "3.7.6"
  }
 },
 "nbformat": 4,
 "nbformat_minor": 5
}
