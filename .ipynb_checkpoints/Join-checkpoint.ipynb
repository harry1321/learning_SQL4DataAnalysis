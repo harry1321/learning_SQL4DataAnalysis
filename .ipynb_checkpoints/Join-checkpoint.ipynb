{
 "cells": [
  {
   "cell_type": "markdown",
   "id": "3c8bd97d",
   "metadata": {},
   "source": [
    "# SQL for Data Analyst\n",
    "- [Basic][1]\n",
    "- [Join][2]\n",
    "- [Aggregation][3]\n",
    "[1]:http://127.0.0.1:8888/notebooks/SQL4DA/Basic.ipynb\n",
    "[2]:http://127.0.0.1:8888/notebooks/SQL4DA/Join.ipynb\n",
    "[3]:http://127.0.0.1:8888/notebooks/SQL4DA/Aggregation.ipynb"
   ]
  },
  {
   "cell_type": "markdown",
   "id": "0685d89e",
   "metadata": {},
   "source": [
    "# Chapter 2. Join\n",
    "   - [Quiz1][3]\n",
    "   - [Quiz2][4]\n",
    "   - [Quiz3][5]\n",
    "   - [Quiz4][6]\n",
    "   - [Quiz5][7]\n",
    "   - [Quiz6][8]\n",
    "   - [Quiz7][9]\n",
    "   - [Quiz8][10]\n",
    "[2]:#Join\n",
    "[3]:#Quiz-1\n",
    "[4]:#Quiz-2\n",
    "[5]:#Quiz-3\n",
    "[6]:#Quiz-4\n",
    "[7]:#Quiz-5\n",
    "[8]:#Quiz-6\n",
    "[9]:#Quiz-7\n",
    "[10]:#Quiz-8"
   ]
  },
  {
   "cell_type": "code",
   "execution_count": 3,
   "id": "1d3add94",
   "metadata": {},
   "outputs": [],
   "source": [
    "%load_ext autoreload\n",
    "%autoreload 2\n",
    "from Query import *"
   ]
  },
  {
   "cell_type": "code",
   "execution_count": 4,
   "id": "2ec534f0",
   "metadata": {},
   "outputs": [],
   "source": [
    "Query = query('test')\n",
    "#Query.get_table()\n",
    "#Query.sql2db('parch-and-posey.sql')\n",
    "Query.connect()"
   ]
  },
  {
   "cell_type": "markdown",
   "id": "19cde30a",
   "metadata": {},
   "source": [
    "## Basic"
   ]
  },
  {
   "cell_type": "code",
   "execution_count": null,
   "id": "97ec1252",
   "metadata": {},
   "outputs": [],
   "source": []
  },
  {
   "cell_type": "markdown",
   "id": "f7ca4991",
   "metadata": {},
   "source": [
    "# Join"
   ]
  },
  {
   "cell_type": "markdown",
   "id": "79fd1505",
   "metadata": {},
   "source": [
    "### Quiz 1\n",
    "Provide a table that provides the region for each sales_rep along with their associated accounts. This time only for the Midwest region. Your final table should include three columns: the region name, the sales rep name, and the account name. Sort the accounts alphabetically (A-Z) according to account name."
   ]
  },
  {
   "cell_type": "code",
   "execution_count": null,
   "id": "2a874980",
   "metadata": {},
   "outputs": [],
   "source": []
  },
  {
   "cell_type": "markdown",
   "id": "9ef6a7e6",
   "metadata": {},
   "source": [
    "### Quiz 2\n",
    "Provide a table that provides the region for each sales_rep along with their associated accounts. `This time only for accounts where the sales rep has a first name starting with S and in the Midwest region.` Your final table should include three columns: the region name, the sales rep name, and the account name. Sort the accounts alphabetically (A-Z) according to account name."
   ]
  },
  {
   "cell_type": "code",
   "execution_count": 34,
   "id": "0f71c749",
   "metadata": {},
   "outputs": [
    {
     "name": "stdout",
     "output_type": "stream",
     "text": [
      "SELECT r.name region, s.name rep, a.name account_name\n",
      "    FROM accounts a\n",
      "    JOIN sales_reps s ON s.id = a.sales_rep_id\n",
      "    JOIN region r ON r.id = s.region_id\n",
      "    WHERE rep LIKE 'S%' AND region = 'Midwest'\n",
      "    ORDER BY account_name\n"
     ]
    },
    {
     "data": {
      "text/html": [
       "<div>\n",
       "<style scoped>\n",
       "    .dataframe tbody tr th:only-of-type {\n",
       "        vertical-align: middle;\n",
       "    }\n",
       "\n",
       "    .dataframe tbody tr th {\n",
       "        vertical-align: top;\n",
       "    }\n",
       "\n",
       "    .dataframe thead th {\n",
       "        text-align: right;\n",
       "    }\n",
       "</style>\n",
       "<table border=\"1\" class=\"dataframe\">\n",
       "  <thead>\n",
       "    <tr style=\"text-align: right;\">\n",
       "      <th></th>\n",
       "      <th>region</th>\n",
       "      <th>rep</th>\n",
       "      <th>account_name</th>\n",
       "    </tr>\n",
       "  </thead>\n",
       "  <tbody>\n",
       "    <tr>\n",
       "      <th>0</th>\n",
       "      <td>Midwest</td>\n",
       "      <td>Sherlene Wetherington</td>\n",
       "      <td>Community Health Systems</td>\n",
       "    </tr>\n",
       "    <tr>\n",
       "      <th>1</th>\n",
       "      <td>Midwest</td>\n",
       "      <td>Sherlene Wetherington</td>\n",
       "      <td>Progressive</td>\n",
       "    </tr>\n",
       "    <tr>\n",
       "      <th>2</th>\n",
       "      <td>Midwest</td>\n",
       "      <td>Sherlene Wetherington</td>\n",
       "      <td>Rite Aid</td>\n",
       "    </tr>\n",
       "    <tr>\n",
       "      <th>3</th>\n",
       "      <td>Midwest</td>\n",
       "      <td>Sherlene Wetherington</td>\n",
       "      <td>Time Warner Cable</td>\n",
       "    </tr>\n",
       "    <tr>\n",
       "      <th>4</th>\n",
       "      <td>Midwest</td>\n",
       "      <td>Sherlene Wetherington</td>\n",
       "      <td>U.S. Bancorp</td>\n",
       "    </tr>\n",
       "  </tbody>\n",
       "</table>\n",
       "</div>"
      ],
      "text/plain": [
       "    region                    rep              account_name\n",
       "0  Midwest  Sherlene Wetherington  Community Health Systems\n",
       "1  Midwest  Sherlene Wetherington               Progressive\n",
       "2  Midwest  Sherlene Wetherington                  Rite Aid\n",
       "3  Midwest  Sherlene Wetherington         Time Warner Cable\n",
       "4  Midwest  Sherlene Wetherington              U.S. Bancorp"
      ]
     },
     "execution_count": 34,
     "metadata": {},
     "output_type": "execute_result"
    }
   ],
   "source": [
    "com = readcom('workout.txt')\n",
    "result = Query.execute(com)\n",
    "result.head()"
   ]
  },
  {
   "cell_type": "markdown",
   "id": "129560f6",
   "metadata": {},
   "source": [
    "### Quiz 3\n",
    "Provide a table that provides the region for each sales_rep along with their associated accounts. `This time only for accounts where the sales rep has a last name starting with K and in the Midwest region.` Your final table should include three columns: the region name, the sales rep name, and the account name. Sort the accounts alphabetically (A-Z) according to account name."
   ]
  },
  {
   "cell_type": "code",
   "execution_count": 39,
   "id": "984bb65c",
   "metadata": {},
   "outputs": [
    {
     "name": "stdout",
     "output_type": "stream",
     "text": [
      "SELECT r.name region, s.name rep, a.name account_name\n",
      "    FROM accounts a\n",
      "    JOIN sales_reps s ON s.id = a.sales_rep_id\n",
      "    AND rep LIKE '% K%'\n",
      "    JOIN region r ON r.id = s.region_id\n",
      "    AND region = 'Midwest'\n"
     ]
    },
    {
     "data": {
      "text/html": [
       "<div>\n",
       "<style scoped>\n",
       "    .dataframe tbody tr th:only-of-type {\n",
       "        vertical-align: middle;\n",
       "    }\n",
       "\n",
       "    .dataframe tbody tr th {\n",
       "        vertical-align: top;\n",
       "    }\n",
       "\n",
       "    .dataframe thead th {\n",
       "        text-align: right;\n",
       "    }\n",
       "</style>\n",
       "<table border=\"1\" class=\"dataframe\">\n",
       "  <thead>\n",
       "    <tr style=\"text-align: right;\">\n",
       "      <th></th>\n",
       "      <th>region</th>\n",
       "      <th>rep</th>\n",
       "      <th>account_name</th>\n",
       "    </tr>\n",
       "  </thead>\n",
       "  <tbody>\n",
       "    <tr>\n",
       "      <th>0</th>\n",
       "      <td>Midwest</td>\n",
       "      <td>Carletta Kosinski</td>\n",
       "      <td>Danaher</td>\n",
       "    </tr>\n",
       "    <tr>\n",
       "      <th>1</th>\n",
       "      <td>Midwest</td>\n",
       "      <td>Carletta Kosinski</td>\n",
       "      <td>Dollar General</td>\n",
       "    </tr>\n",
       "    <tr>\n",
       "      <th>2</th>\n",
       "      <td>Midwest</td>\n",
       "      <td>Carletta Kosinski</td>\n",
       "      <td>International Paper</td>\n",
       "    </tr>\n",
       "    <tr>\n",
       "      <th>3</th>\n",
       "      <td>Midwest</td>\n",
       "      <td>Carletta Kosinski</td>\n",
       "      <td>McDonald's</td>\n",
       "    </tr>\n",
       "    <tr>\n",
       "      <th>4</th>\n",
       "      <td>Midwest</td>\n",
       "      <td>Carletta Kosinski</td>\n",
       "      <td>Northrop Grumman</td>\n",
       "    </tr>\n",
       "  </tbody>\n",
       "</table>\n",
       "</div>"
      ],
      "text/plain": [
       "    region                rep         account_name\n",
       "0  Midwest  Carletta Kosinski              Danaher\n",
       "1  Midwest  Carletta Kosinski       Dollar General\n",
       "2  Midwest  Carletta Kosinski  International Paper\n",
       "3  Midwest  Carletta Kosinski           McDonald's\n",
       "4  Midwest  Carletta Kosinski     Northrop Grumman"
      ]
     },
     "execution_count": 39,
     "metadata": {},
     "output_type": "execute_result"
    }
   ],
   "source": [
    "com = readcom('workout.txt')\n",
    "result = Query.execute(com)\n",
    "result.head()"
   ]
  },
  {
   "cell_type": "markdown",
   "id": "d3db4ec5",
   "metadata": {},
   "source": [
    "# Quiz 4\n",
    "Provide the name for each region for every order, as well as the account name and the unit price they paid (total_amt_usd/total) for the order. However, you should only provide the results if the standard order quantity exceeds 100. Your final table should have 3 columns: region name, account name, and unit price. In order to avoid a division by zero error, adding .01 to the denominator here is helpful total_amt_usd/(total+0.01)."
   ]
  },
  {
   "cell_type": "code",
   "execution_count": 7,
   "id": "2327be1a",
   "metadata": {},
   "outputs": [
    {
     "name": "stdout",
     "output_type": "stream",
     "text": [
      "SELECT\n",
      "    r.name region, \n",
      "    a.name account_name, \n",
      "    (o.total_amt_usd/(o.total+0.01)) AS unit_price\n",
      "    FROM accounts a\n",
      "    JOIN sales_reps s ON s.id = a.sales_rep_id\n",
      "    JOIN region r ON r.id = s.region_id\n",
      "    JOIN orders o ON o.account_id = a.id\n",
      "    AND o.standard_qty > 100\n"
     ]
    },
    {
     "data": {
      "text/html": [
       "<div>\n",
       "<style scoped>\n",
       "    .dataframe tbody tr th:only-of-type {\n",
       "        vertical-align: middle;\n",
       "    }\n",
       "\n",
       "    .dataframe tbody tr th {\n",
       "        vertical-align: top;\n",
       "    }\n",
       "\n",
       "    .dataframe thead th {\n",
       "        text-align: right;\n",
       "    }\n",
       "</style>\n",
       "<table border=\"1\" class=\"dataframe\">\n",
       "  <thead>\n",
       "    <tr style=\"text-align: right;\">\n",
       "      <th></th>\n",
       "      <th>region</th>\n",
       "      <th>account_name</th>\n",
       "      <th>unit_price</th>\n",
       "    </tr>\n",
       "  </thead>\n",
       "  <tbody>\n",
       "    <tr>\n",
       "      <th>0</th>\n",
       "      <td>Northeast</td>\n",
       "      <td>Walmart</td>\n",
       "      <td>5.759600</td>\n",
       "    </tr>\n",
       "    <tr>\n",
       "      <th>1</th>\n",
       "      <td>Northeast</td>\n",
       "      <td>Walmart</td>\n",
       "      <td>5.965175</td>\n",
       "    </tr>\n",
       "    <tr>\n",
       "      <th>2</th>\n",
       "      <td>Northeast</td>\n",
       "      <td>Walmart</td>\n",
       "      <td>5.444236</td>\n",
       "    </tr>\n",
       "    <tr>\n",
       "      <th>3</th>\n",
       "      <td>Northeast</td>\n",
       "      <td>Walmart</td>\n",
       "      <td>5.960184</td>\n",
       "    </tr>\n",
       "    <tr>\n",
       "      <th>4</th>\n",
       "      <td>Northeast</td>\n",
       "      <td>Walmart</td>\n",
       "      <td>6.168719</td>\n",
       "    </tr>\n",
       "  </tbody>\n",
       "</table>\n",
       "</div>"
      ],
      "text/plain": [
       "      region account_name  unit_price\n",
       "0  Northeast      Walmart    5.759600\n",
       "1  Northeast      Walmart    5.965175\n",
       "2  Northeast      Walmart    5.444236\n",
       "3  Northeast      Walmart    5.960184\n",
       "4  Northeast      Walmart    6.168719"
      ]
     },
     "execution_count": 7,
     "metadata": {},
     "output_type": "execute_result"
    }
   ],
   "source": [
    "com = readcom('workout.txt')\n",
    "result = Query.execute(com)\n",
    "result.head()"
   ]
  },
  {
   "cell_type": "markdown",
   "id": "8a1fde76",
   "metadata": {},
   "source": [
    "# Quiz 5\n",
    "Provide the name for each region for every order, as well as the account name and the unit price they paid (total_amt_usd/total) for the order. However, you should only provide the results if the standard order quantity exceeds 100 and the poster order quantity exceeds 50. Your final table should have 3 columns: region name, account name, and unit price. Sort for the smallest unit price first. In order to avoid a division by zero error, adding .01 to the denominator here is helpful (total_amt_usd/(total+0.01)."
   ]
  },
  {
   "cell_type": "code",
   "execution_count": 16,
   "id": "f00e7ebe",
   "metadata": {},
   "outputs": [
    {
     "name": "stdout",
     "output_type": "stream",
     "text": [
      "    \n",
      "SELECT\n",
      "    r.name region, \n",
      "    a.name account_name, \n",
      "    (o.total_amt_usd/(o.total+0.01)) AS unit_price\n",
      "    FROM accounts a\n",
      "    JOIN sales_reps s ON s.id = a.sales_rep_id\n",
      "    JOIN region r ON r.id = s.region_id\n",
      "    JOIN orders o ON o.account_id = a.id\n",
      "    WHERE o.standard_qty > 100 AND o.poster_qty > 50\n",
      "    ORDER BY unit_price\n"
     ]
    },
    {
     "data": {
      "text/html": [
       "<div>\n",
       "<style scoped>\n",
       "    .dataframe tbody tr th:only-of-type {\n",
       "        vertical-align: middle;\n",
       "    }\n",
       "\n",
       "    .dataframe tbody tr th {\n",
       "        vertical-align: top;\n",
       "    }\n",
       "\n",
       "    .dataframe thead th {\n",
       "        text-align: right;\n",
       "    }\n",
       "</style>\n",
       "<table border=\"1\" class=\"dataframe\">\n",
       "  <thead>\n",
       "    <tr style=\"text-align: right;\">\n",
       "      <th></th>\n",
       "      <th>region</th>\n",
       "      <th>account_name</th>\n",
       "      <th>unit_price</th>\n",
       "    </tr>\n",
       "  </thead>\n",
       "  <tbody>\n",
       "    <tr>\n",
       "      <th>0</th>\n",
       "      <td>Northeast</td>\n",
       "      <td>State Farm Insurance Cos.</td>\n",
       "      <td>5.119282</td>\n",
       "    </tr>\n",
       "    <tr>\n",
       "      <th>1</th>\n",
       "      <td>Southeast</td>\n",
       "      <td>DISH Network</td>\n",
       "      <td>5.231816</td>\n",
       "    </tr>\n",
       "    <tr>\n",
       "      <th>2</th>\n",
       "      <td>Northeast</td>\n",
       "      <td>Travelers Cos.</td>\n",
       "      <td>5.235181</td>\n",
       "    </tr>\n",
       "    <tr>\n",
       "      <th>3</th>\n",
       "      <td>Northeast</td>\n",
       "      <td>Best Buy</td>\n",
       "      <td>5.260426</td>\n",
       "    </tr>\n",
       "    <tr>\n",
       "      <th>4</th>\n",
       "      <td>West</td>\n",
       "      <td>Stanley Black &amp; Decker</td>\n",
       "      <td>5.266396</td>\n",
       "    </tr>\n",
       "  </tbody>\n",
       "</table>\n",
       "</div>"
      ],
      "text/plain": [
       "      region               account_name  unit_price\n",
       "0  Northeast  State Farm Insurance Cos.    5.119282\n",
       "1  Southeast               DISH Network    5.231816\n",
       "2  Northeast             Travelers Cos.    5.235181\n",
       "3  Northeast                   Best Buy    5.260426\n",
       "4       West     Stanley Black & Decker    5.266396"
      ]
     },
     "execution_count": 16,
     "metadata": {},
     "output_type": "execute_result"
    }
   ],
   "source": [
    "com = readcom('workout.txt')\n",
    "result = Query.execute(com)\n",
    "result.head()"
   ]
  },
  {
   "cell_type": "markdown",
   "id": "ab1a5df4",
   "metadata": {},
   "source": [
    "# Quiz 6\n",
    "Provide the name for each region for every order, as well as the account name and the unit price they paid (total_amt_usd/total) for the order. However, you should only provide the results if the standard order quantity exceeds 100 and the poster order quantity exceeds 50. Your final table should have 3 columns: region name, account name, and unit price. Sort for the largest unit price first. In order to avoid a division by zero error, adding .01 to the denominator here is helpful (total_amt_usd/(total+0.01)."
   ]
  },
  {
   "cell_type": "code",
   "execution_count": 18,
   "id": "d956d7b6",
   "metadata": {},
   "outputs": [
    {
     "name": "stdout",
     "output_type": "stream",
     "text": [
      "    \n",
      "SELECT\n",
      "    r.name region, \n",
      "    a.name account_name, \n",
      "    (o.total_amt_usd/(o.total+0.01)) AS unit_price\n",
      "    FROM accounts a\n",
      "    JOIN sales_reps s ON s.id = a.sales_rep_id\n",
      "    JOIN region r ON r.id = s.region_id\n",
      "    JOIN orders o ON o.account_id = a.id\n",
      "    WHERE o.standard_qty > 100 AND o.poster_qty > 50\n",
      "    ORDER BY unit_price DESC\n"
     ]
    },
    {
     "data": {
      "text/html": [
       "<div>\n",
       "<style scoped>\n",
       "    .dataframe tbody tr th:only-of-type {\n",
       "        vertical-align: middle;\n",
       "    }\n",
       "\n",
       "    .dataframe tbody tr th {\n",
       "        vertical-align: top;\n",
       "    }\n",
       "\n",
       "    .dataframe thead th {\n",
       "        text-align: right;\n",
       "    }\n",
       "</style>\n",
       "<table border=\"1\" class=\"dataframe\">\n",
       "  <thead>\n",
       "    <tr style=\"text-align: right;\">\n",
       "      <th></th>\n",
       "      <th>region</th>\n",
       "      <th>account_name</th>\n",
       "      <th>unit_price</th>\n",
       "    </tr>\n",
       "  </thead>\n",
       "  <tbody>\n",
       "    <tr>\n",
       "      <th>0</th>\n",
       "      <td>Northeast</td>\n",
       "      <td>IBM</td>\n",
       "      <td>8.089906</td>\n",
       "    </tr>\n",
       "    <tr>\n",
       "      <th>1</th>\n",
       "      <td>West</td>\n",
       "      <td>Mosaic</td>\n",
       "      <td>8.066329</td>\n",
       "    </tr>\n",
       "    <tr>\n",
       "      <th>2</th>\n",
       "      <td>West</td>\n",
       "      <td>Pacific Life</td>\n",
       "      <td>8.063023</td>\n",
       "    </tr>\n",
       "    <tr>\n",
       "      <th>3</th>\n",
       "      <td>Northeast</td>\n",
       "      <td>CHS</td>\n",
       "      <td>8.018849</td>\n",
       "    </tr>\n",
       "    <tr>\n",
       "      <th>4</th>\n",
       "      <td>West</td>\n",
       "      <td>Fidelity National Financial</td>\n",
       "      <td>7.992802</td>\n",
       "    </tr>\n",
       "  </tbody>\n",
       "</table>\n",
       "</div>"
      ],
      "text/plain": [
       "      region                 account_name  unit_price\n",
       "0  Northeast                          IBM    8.089906\n",
       "1       West                       Mosaic    8.066329\n",
       "2       West                 Pacific Life    8.063023\n",
       "3  Northeast                          CHS    8.018849\n",
       "4       West  Fidelity National Financial    7.992802"
      ]
     },
     "execution_count": 18,
     "metadata": {},
     "output_type": "execute_result"
    }
   ],
   "source": [
    "com = readcom('workout.txt')\n",
    "result = Query.execute(com)\n",
    "result.head()"
   ]
  },
  {
   "cell_type": "markdown",
   "id": "1b091508",
   "metadata": {},
   "source": [
    "# Quiz 7\n",
    "What are the different channels used by account id 1001? Your final table should have only 2 columns: account name and the different channels. You can try SELECT DISTINCT to narrow down the results to only the unique values.\n",
    "\n",
    "### Key Point\n",
    "#### `The SQL SELECT DISTINCT Statement`\n",
    "The SELECT DISTINCT statement is used to `return only distinct (different) values`.\n",
    "\n",
    "Inside a table, a column often contains many duplicate values; and sometimes you only want to list the different (distinct) values."
   ]
  },
  {
   "cell_type": "code",
   "execution_count": 20,
   "id": "b2ae3459",
   "metadata": {},
   "outputs": [
    {
     "name": "stdout",
     "output_type": "stream",
     "text": [
      "SELECT DISTINCT a.name account_name,\n",
      "    w.channel\n",
      "    FROM accounts a\n",
      "    JOIN web_events w ON w.account_id = a.id\n",
      "    WHERE a.id = 1001\n"
     ]
    },
    {
     "data": {
      "text/html": [
       "<div>\n",
       "<style scoped>\n",
       "    .dataframe tbody tr th:only-of-type {\n",
       "        vertical-align: middle;\n",
       "    }\n",
       "\n",
       "    .dataframe tbody tr th {\n",
       "        vertical-align: top;\n",
       "    }\n",
       "\n",
       "    .dataframe thead th {\n",
       "        text-align: right;\n",
       "    }\n",
       "</style>\n",
       "<table border=\"1\" class=\"dataframe\">\n",
       "  <thead>\n",
       "    <tr style=\"text-align: right;\">\n",
       "      <th></th>\n",
       "      <th>account_name</th>\n",
       "      <th>channel</th>\n",
       "    </tr>\n",
       "  </thead>\n",
       "  <tbody>\n",
       "    <tr>\n",
       "      <th>0</th>\n",
       "      <td>Walmart</td>\n",
       "      <td>adwords</td>\n",
       "    </tr>\n",
       "    <tr>\n",
       "      <th>1</th>\n",
       "      <td>Walmart</td>\n",
       "      <td>banner</td>\n",
       "    </tr>\n",
       "    <tr>\n",
       "      <th>2</th>\n",
       "      <td>Walmart</td>\n",
       "      <td>direct</td>\n",
       "    </tr>\n",
       "    <tr>\n",
       "      <th>3</th>\n",
       "      <td>Walmart</td>\n",
       "      <td>facebook</td>\n",
       "    </tr>\n",
       "    <tr>\n",
       "      <th>4</th>\n",
       "      <td>Walmart</td>\n",
       "      <td>organic</td>\n",
       "    </tr>\n",
       "  </tbody>\n",
       "</table>\n",
       "</div>"
      ],
      "text/plain": [
       "  account_name   channel\n",
       "0      Walmart   adwords\n",
       "1      Walmart    banner\n",
       "2      Walmart    direct\n",
       "3      Walmart  facebook\n",
       "4      Walmart   organic"
      ]
     },
     "execution_count": 20,
     "metadata": {},
     "output_type": "execute_result"
    }
   ],
   "source": [
    "com = readcom('workout.txt')\n",
    "result = Query.execute(com)\n",
    "result.head()"
   ]
  },
  {
   "cell_type": "markdown",
   "id": "c5cc11f3",
   "metadata": {},
   "source": [
    "# Quiz 8\n",
    "Find all the orders that occurred in 2015. Your final table should have 4 columns: occurred_at, account name, order total, and order total_amt_usd.\n",
    "\n",
    "### Key Point\n",
    "#### `Time Range`\n",
    "The BETWEEN operator in SQL is inclusive; that is, the endpoint values are included.\n",
    "\n",
    "Using BETWEEN is tricky for dates! It assumes the time is at 00:00:00 (i.e. midnight) for dates. This is the reason why we `set the right-side endpoint of the period at '2016-01-01'`."
   ]
  },
  {
   "cell_type": "code",
   "execution_count": 26,
   "id": "51b0dbaa",
   "metadata": {},
   "outputs": [
    {
     "name": "stdout",
     "output_type": "stream",
     "text": [
      "    \n",
      "SELECT o.occurred_at, o.total, o.total_amt_usd, a.name account_name\n",
      "FROM accounts a\n",
      "JOIN orders o ON o.account_id = a.id\n",
      "WHERE o.occurred_at BETWEEN '2015-01-01' AND '2015-12-31'\n",
      "ORDER BY o.occurred_at DESC\n"
     ]
    },
    {
     "data": {
      "text/html": [
       "<div>\n",
       "<style scoped>\n",
       "    .dataframe tbody tr th:only-of-type {\n",
       "        vertical-align: middle;\n",
       "    }\n",
       "\n",
       "    .dataframe tbody tr th {\n",
       "        vertical-align: top;\n",
       "    }\n",
       "\n",
       "    .dataframe thead th {\n",
       "        text-align: right;\n",
       "    }\n",
       "</style>\n",
       "<table border=\"1\" class=\"dataframe\">\n",
       "  <thead>\n",
       "    <tr style=\"text-align: right;\">\n",
       "      <th></th>\n",
       "      <th>occurred_at</th>\n",
       "      <th>total</th>\n",
       "      <th>total_amt_usd</th>\n",
       "      <th>account_name</th>\n",
       "    </tr>\n",
       "  </thead>\n",
       "  <tbody>\n",
       "    <tr>\n",
       "      <th>0</th>\n",
       "      <td>2015-12-30 20:04:55</td>\n",
       "      <td>121</td>\n",
       "      <td>623.79</td>\n",
       "      <td>Occidental Petroleum</td>\n",
       "    </tr>\n",
       "    <tr>\n",
       "      <th>1</th>\n",
       "      <td>2015-12-30 19:01:13</td>\n",
       "      <td>340</td>\n",
       "      <td>1819.22</td>\n",
       "      <td>CHS</td>\n",
       "    </tr>\n",
       "    <tr>\n",
       "      <th>2</th>\n",
       "      <td>2015-12-30 17:31:09</td>\n",
       "      <td>1314</td>\n",
       "      <td>8632.07</td>\n",
       "      <td>Pfizer</td>\n",
       "    </tr>\n",
       "    <tr>\n",
       "      <th>3</th>\n",
       "      <td>2015-12-30 17:30:33</td>\n",
       "      <td>327</td>\n",
       "      <td>1762.44</td>\n",
       "      <td>Fluor</td>\n",
       "    </tr>\n",
       "    <tr>\n",
       "      <th>4</th>\n",
       "      <td>2015-12-30 17:17:03</td>\n",
       "      <td>869</td>\n",
       "      <td>6311.35</td>\n",
       "      <td>Fluor</td>\n",
       "    </tr>\n",
       "  </tbody>\n",
       "</table>\n",
       "</div>"
      ],
      "text/plain": [
       "           occurred_at  total  total_amt_usd          account_name\n",
       "0  2015-12-30 20:04:55    121         623.79  Occidental Petroleum\n",
       "1  2015-12-30 19:01:13    340        1819.22                   CHS\n",
       "2  2015-12-30 17:31:09   1314        8632.07                Pfizer\n",
       "3  2015-12-30 17:30:33    327        1762.44                 Fluor\n",
       "4  2015-12-30 17:17:03    869        6311.35                 Fluor"
      ]
     },
     "execution_count": 26,
     "metadata": {},
     "output_type": "execute_result"
    }
   ],
   "source": [
    "com = readcom('workout.txt')\n",
    "result = Query.execute(com)\n",
    "result.head()"
   ]
  },
  {
   "cell_type": "markdown",
   "id": "5b865604",
   "metadata": {},
   "source": [
    "# Aggregation"
   ]
  }
 ],
 "metadata": {
  "kernelspec": {
   "display_name": "Python 3 (ipykernel)",
   "language": "python",
   "name": "python3"
  },
  "language_info": {
   "codemirror_mode": {
    "name": "ipython",
    "version": 3
   },
   "file_extension": ".py",
   "mimetype": "text/x-python",
   "name": "python",
   "nbconvert_exporter": "python",
   "pygments_lexer": "ipython3",
   "version": "3.7.6"
  }
 },
 "nbformat": 4,
 "nbformat_minor": 5
}
