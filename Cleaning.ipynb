{
 "cells": [
  {
   "cell_type": "markdown",
   "id": "1e0cba00",
   "metadata": {},
   "source": [
    "# SQL for Data Analyst\n",
    "- [Basic][1]\n",
    "- [Join][2]\n",
    "- [Aggregation][3]\n",
    "- [Subqueries][4]\n",
    "- [Cleaning][5]\n",
    "[1]:http://127.0.0.1:8888/notebooks/SQL4DA/Basic.ipynb\n",
    "[2]:http://127.0.0.1:8888/notebooks/SQL4DA/Join.ipynb\n",
    "[3]:http://127.0.0.1:8888/notebooks/SQL4DA/Aggregation.ipynb\n",
    "[4]:http://127.0.0.1:8888/notebooks/SQL4DA/Subqueries.ipynb\n",
    "[5]:http://127.0.0.1:8888/notebooks/SQL4DA/Cleaning.ipynb"
   ]
  },
  {
   "cell_type": "markdown",
   "id": "338d6562",
   "metadata": {},
   "source": [
    "# Data Cleaning\n",
    "\n",
    "* [Subqueries][1]\n",
    "    - [Exercise][2]\n",
    "* [WITH CTE][3]\n",
    "    - [Exercise][4] \n",
    "[1]:#Subqueries\n",
    "[2]:#Exercise\n",
    "[3]:#WITH-(-Common-Table-Expression，CTE-)\n",
    "[4]:#Exercise-2"
   ]
  },
  {
   "cell_type": "code",
   "execution_count": 2,
   "id": "55faf26f",
   "metadata": {},
   "outputs": [],
   "source": [
    "%load_ext autoreload\n",
    "%autoreload 2\n",
    "from Query import *\n",
    "import seaborn as sns\n",
    "import matplotlib.pyplot as plt"
   ]
  },
  {
   "cell_type": "code",
   "execution_count": 6,
   "id": "05bdb431",
   "metadata": {},
   "outputs": [],
   "source": [
    "database = 'test'\n",
    "exercise = 'cleaning.txt'"
   ]
  },
  {
   "cell_type": "code",
   "execution_count": 30,
   "id": "5dd288d4",
   "metadata": {},
   "outputs": [],
   "source": [
    "Query = query(database)\n",
    "#Query.get_table()\n",
    "#Query.sql2db('parch-and-posey.sql')\n",
    "Query.connect()"
   ]
  },
  {
   "cell_type": "markdown",
   "id": "513b189e",
   "metadata": {},
   "source": [
    "## LEFT, RIGHT & LENGTH  \n",
    "PostgreSQL  \n",
    "Three new functions：\n",
    "1. `LEFT`：  \n",
    "`LEFT` pulls a specified number of characters for each row in a specified column starting <mark>at the beginning</mark> (or from the left). As you saw here, you can pull the first three digits of a phone number using `LEFT(phone_number, 3)`.\n",
    "2. `RIGHT`：  \n",
    "`RIGHT` pulls a specified number of characters for each row in a specified column starting <mark>at the end</mark> (or from the right). As you saw here, you can pull the last eight digits of a phone number using `RIGHT(phone_number, 8)`.\n",
    "3. `LENGTH`：  \n",
    "`LENGTH` provides the number of characters for each row of a specified column. Here, you saw that we could use this to get the length of each phone number as `LENGTH(phone_number)`.\n",
    "\n",
    "Sqlite\n",
    "```SQL\n",
    "substr(data,start,length)\n",
    "```\n",
    "example:\n",
    "\n",
    "| 1 | 2 | 3 | 4 | 5 | 6 | 7 | 8 | 9 | 10 | 11 | 12 | 13 | 14 |\n",
    "|:-:|:-:|:-:|:-:|:-:|:-:|:-:|:-:|:-:|:-:|:-:|:-:|:-:|:-:|\n",
    "| s | u | b | s | t | r |   | e | x | a | m | l | p | e |\n",
    "|-14|-13|-12|-11|-10|-9|-8|-7|-6|-5|-4|-3|-2|-1|\n",
    "\n",
    "```SQL\n",
    "substr('substr example',4,10)\n",
    "```\n",
    "return ```str example```\n",
    "\n",
    "```SQL\n",
    "substr('substr example',-7)\n",
    "```\n",
    "return ```example```"
   ]
  },
  {
   "cell_type": "markdown",
   "id": "3a0c1744",
   "metadata": {},
   "source": [
    "## Exercise \n",
    "1. In the accounts table, there is a column holding the website for each company. The last three digits specify what type of web address they are using. A list of extensions (and pricing) is provided here. Pull these extensions and provide how many of each website type exist in the accounts table.\n",
    "```SQL\n",
    "SELECT DISTINCT COUNT(substr(website,-3))\n",
    "FROM accounts a;\n",
    "```"
   ]
  },
  {
   "cell_type": "code",
   "execution_count": 12,
   "id": "91b059d0",
   "metadata": {},
   "outputs": [
    {
     "name": "stdout",
     "output_type": "stream",
     "text": [
      "SELECT DISTINCT COUNT(substr(website,-3))\n",
      "FROM accounts a\n"
     ]
    },
    {
     "data": {
      "text/html": [
       "<div>\n",
       "<style scoped>\n",
       "    .dataframe tbody tr th:only-of-type {\n",
       "        vertical-align: middle;\n",
       "    }\n",
       "\n",
       "    .dataframe tbody tr th {\n",
       "        vertical-align: top;\n",
       "    }\n",
       "\n",
       "    .dataframe thead th {\n",
       "        text-align: right;\n",
       "    }\n",
       "</style>\n",
       "<table border=\"1\" class=\"dataframe\">\n",
       "  <thead>\n",
       "    <tr style=\"text-align: right;\">\n",
       "      <th></th>\n",
       "      <th>COUNT(substr(website,-3))</th>\n",
       "    </tr>\n",
       "  </thead>\n",
       "  <tbody>\n",
       "    <tr>\n",
       "      <th>0</th>\n",
       "      <td>351</td>\n",
       "    </tr>\n",
       "  </tbody>\n",
       "</table>\n",
       "</div>"
      ],
      "text/plain": [
       "   COUNT(substr(website,-3))\n",
       "0                        351"
      ]
     },
     "execution_count": 12,
     "metadata": {},
     "output_type": "execute_result"
    }
   ],
   "source": [
    "com = readcom(exercise)\n",
    "result = Query.execute(com)\n",
    "result"
   ]
  },
  {
   "cell_type": "markdown",
   "id": "c456ec39",
   "metadata": {},
   "source": [
    "2. There is much debate about how much the name (or even the first letter of a company name) matters. Use the accounts table to pull the first letter of each company name to see the distribution of company names that begin with each letter (or number).\n",
    "```SQL\n",
    "SELECT substr(name,1,1) type, COUNT(*)\n",
    "FROM accounts a\n",
    "GROUP BY 1\n",
    "ORDER BY 2;\n",
    "```"
   ]
  },
  {
   "cell_type": "code",
   "execution_count": 14,
   "id": "b173633c",
   "metadata": {},
   "outputs": [
    {
     "name": "stdout",
     "output_type": "stream",
     "text": [
      "SELECT substr(name,1,1) type, COUNT(*)\n",
      "FROM accounts a\n",
      "GROUP BY 1\n",
      "ORDER BY 2 DESC\n"
     ]
    },
    {
     "data": {
      "text/html": [
       "<div>\n",
       "<style scoped>\n",
       "    .dataframe tbody tr th:only-of-type {\n",
       "        vertical-align: middle;\n",
       "    }\n",
       "\n",
       "    .dataframe tbody tr th {\n",
       "        vertical-align: top;\n",
       "    }\n",
       "\n",
       "    .dataframe thead th {\n",
       "        text-align: right;\n",
       "    }\n",
       "</style>\n",
       "<table border=\"1\" class=\"dataframe\">\n",
       "  <thead>\n",
       "    <tr style=\"text-align: right;\">\n",
       "      <th></th>\n",
       "      <th>type</th>\n",
       "      <th>COUNT(*)</th>\n",
       "    </tr>\n",
       "  </thead>\n",
       "  <tbody>\n",
       "    <tr>\n",
       "      <th>0</th>\n",
       "      <td>C</td>\n",
       "      <td>37</td>\n",
       "    </tr>\n",
       "    <tr>\n",
       "      <th>1</th>\n",
       "      <td>A</td>\n",
       "      <td>37</td>\n",
       "    </tr>\n",
       "    <tr>\n",
       "      <th>2</th>\n",
       "      <td>P</td>\n",
       "      <td>27</td>\n",
       "    </tr>\n",
       "    <tr>\n",
       "      <th>3</th>\n",
       "      <td>M</td>\n",
       "      <td>22</td>\n",
       "    </tr>\n",
       "    <tr>\n",
       "      <th>4</th>\n",
       "      <td>T</td>\n",
       "      <td>17</td>\n",
       "    </tr>\n",
       "  </tbody>\n",
       "</table>\n",
       "</div>"
      ],
      "text/plain": [
       "  type  COUNT(*)\n",
       "0    C        37\n",
       "1    A        37\n",
       "2    P        27\n",
       "3    M        22\n",
       "4    T        17"
      ]
     },
     "execution_count": 14,
     "metadata": {},
     "output_type": "execute_result"
    }
   ],
   "source": [
    "com = readcom(exercise)\n",
    "result = Query.execute(com)\n",
    "result.head()"
   ]
  },
  {
   "cell_type": "markdown",
   "id": "4caf1e99",
   "metadata": {},
   "source": [
    "3. Use the accounts table and a CASE statement to create two groups: one group of company names that start with a number and a second group of those company names that start with a letter. What proportion of company names start with a letter?\n",
    "```SQL\n",
    "WITH g AS\n",
    "(SELECT a.name,\n",
    "    CASE \n",
    "    WHEN a.name REGEXP('^[0-9]') THEN 'numbers'\n",
    "    WHEN a.name REGEXP('^[a-zA-Z]') THEN 'letters'\n",
    "    ELSE 'others'\n",
    "    END AS 'name_group'\n",
    "FROM accounts a)\n",
    "\n",
    "SELECT name_group, COUNT(*) AS num\n",
    "FROM g\n",
    "GROUP BY 1;\n",
    "```"
   ]
  },
  {
   "cell_type": "code",
   "execution_count": 43,
   "id": "62226baf",
   "metadata": {},
   "outputs": [
    {
     "name": "stdout",
     "output_type": "stream",
     "text": [
      "WITH g AS\n",
      "(SELECT a.name,\n",
      "    CASE \n",
      "    WHEN a.name REGEXP('^[0-9]') THEN 'numbers'\n",
      "    WHEN a.name REGEXP('^[a-zA-Z]') THEN 'letters'\n",
      "    ELSE 'others'\n",
      "    END AS 'name_group'\n",
      "FROM accounts a)\n",
      "\n",
      "SELECT name_group, COUNT(*) AS num\n",
      "FROM g\n",
      "GROUP BY 1\n"
     ]
    },
    {
     "data": {
      "text/html": [
       "<div>\n",
       "<style scoped>\n",
       "    .dataframe tbody tr th:only-of-type {\n",
       "        vertical-align: middle;\n",
       "    }\n",
       "\n",
       "    .dataframe tbody tr th {\n",
       "        vertical-align: top;\n",
       "    }\n",
       "\n",
       "    .dataframe thead th {\n",
       "        text-align: right;\n",
       "    }\n",
       "</style>\n",
       "<table border=\"1\" class=\"dataframe\">\n",
       "  <thead>\n",
       "    <tr style=\"text-align: right;\">\n",
       "      <th></th>\n",
       "      <th>name_group</th>\n",
       "      <th>num</th>\n",
       "    </tr>\n",
       "  </thead>\n",
       "  <tbody>\n",
       "    <tr>\n",
       "      <th>0</th>\n",
       "      <td>letters</td>\n",
       "      <td>350</td>\n",
       "    </tr>\n",
       "    <tr>\n",
       "      <th>1</th>\n",
       "      <td>numbers</td>\n",
       "      <td>1</td>\n",
       "    </tr>\n",
       "  </tbody>\n",
       "</table>\n",
       "</div>"
      ],
      "text/plain": [
       "  name_group  num\n",
       "0    letters  350\n",
       "1    numbers    1"
      ]
     },
     "execution_count": 43,
     "metadata": {},
     "output_type": "execute_result"
    }
   ],
   "source": [
    "com = readcom(exercise)\n",
    "result = Query.execute(com)\n",
    "result"
   ]
  },
  {
   "cell_type": "markdown",
   "id": "33d6c33a",
   "metadata": {},
   "source": [
    "4. Consider vowels as a, e, i, o, and u. What proportion of company names start with a vowel, and what percent start with anything else?\n",
    "```SQL\n",
    "WITH g AS\n",
    "(SELECT a.name,\n",
    "    CASE \n",
    "    WHEN a.name REGEXP('^[aeiouAEIOU]') THEN 'vowels'\n",
    "    ELSE 'consants'\n",
    "    END AS 'name_group'\n",
    "FROM accounts a)\n",
    "\n",
    "SELECT name_group, COUNT(*) AS num\n",
    "FROM g\n",
    "GROUP BY 1;\n",
    "```"
   ]
  },
  {
   "cell_type": "code",
   "execution_count": 45,
   "id": "bf9356d7",
   "metadata": {},
   "outputs": [
    {
     "name": "stdout",
     "output_type": "stream",
     "text": [
      "WITH g AS\n",
      "(SELECT a.name,\n",
      "    CASE \n",
      "    WHEN a.name REGEXP('^[aeiouAEIOU]') THEN 'vowels'\n",
      "    ELSE 'consants'\n",
      "    END AS 'name_group'\n",
      "FROM accounts a)\n",
      "\n",
      "SELECT name_group, COUNT(*) AS num\n",
      "FROM g\n",
      "GROUP BY 1\n"
     ]
    },
    {
     "data": {
      "text/html": [
       "<div>\n",
       "<style scoped>\n",
       "    .dataframe tbody tr th:only-of-type {\n",
       "        vertical-align: middle;\n",
       "    }\n",
       "\n",
       "    .dataframe tbody tr th {\n",
       "        vertical-align: top;\n",
       "    }\n",
       "\n",
       "    .dataframe thead th {\n",
       "        text-align: right;\n",
       "    }\n",
       "</style>\n",
       "<table border=\"1\" class=\"dataframe\">\n",
       "  <thead>\n",
       "    <tr style=\"text-align: right;\">\n",
       "      <th></th>\n",
       "      <th>name_group</th>\n",
       "      <th>num</th>\n",
       "    </tr>\n",
       "  </thead>\n",
       "  <tbody>\n",
       "    <tr>\n",
       "      <th>0</th>\n",
       "      <td>consants</td>\n",
       "      <td>271</td>\n",
       "    </tr>\n",
       "    <tr>\n",
       "      <th>1</th>\n",
       "      <td>vowels</td>\n",
       "      <td>80</td>\n",
       "    </tr>\n",
       "  </tbody>\n",
       "</table>\n",
       "</div>"
      ],
      "text/plain": [
       "  name_group  num\n",
       "0   consants  271\n",
       "1     vowels   80"
      ]
     },
     "execution_count": 45,
     "metadata": {},
     "output_type": "execute_result"
    }
   ],
   "source": [
    "com = readcom(exercise)\n",
    "result = Query.execute(com)\n",
    "result"
   ]
  },
  {
   "cell_type": "markdown",
   "id": "a3370e1b",
   "metadata": {},
   "source": [
    "## Index of character\n",
    "### SQLite\n",
    "#### `instr`\n",
    "The syntax goes like this:\n",
    "\n",
    "inst(X,Y)\n",
    "X is the string\n",
    "Y is the character\n",
    "```SQL\n",
    "SELECT instr('Black cat', 'a');\n",
    "```\n",
    "result：\n",
    "```\n",
    "3\n",
    "```\n",
    "Note：If data don’t have the letter it will return 0 for that row."
   ]
  },
  {
   "cell_type": "markdown",
   "id": "7c6b635b",
   "metadata": {},
   "source": [
    "1. Use the accounts table to create first and last name columns that hold the first and last names for the primary_poc.\n",
    "```SQL\n",
    "SELECT\n",
    "    substr(a.primary_poc, 1, instr(a.primary_poc,' ')-1) AS first_name,\n",
    "    substr(a.primary_poc, instr(a.primary_poc,' ')+1) AS last_name\n",
    "FROM accounts a;\n",
    "```"
   ]
  },
  {
   "cell_type": "code",
   "execution_count": 56,
   "id": "56a4c414",
   "metadata": {},
   "outputs": [
    {
     "name": "stdout",
     "output_type": "stream",
     "text": [
      "SELECT\n",
      "    a.primary_poc,\n",
      "    substr(a.primary_poc, 1, instr(a.primary_poc,' ')-1) AS first_name,\n",
      "    substr(a.primary_poc, instr(a.primary_poc,' ')+1) AS last_name\n",
      "FROM accounts a\n"
     ]
    },
    {
     "data": {
      "text/html": [
       "<div>\n",
       "<style scoped>\n",
       "    .dataframe tbody tr th:only-of-type {\n",
       "        vertical-align: middle;\n",
       "    }\n",
       "\n",
       "    .dataframe tbody tr th {\n",
       "        vertical-align: top;\n",
       "    }\n",
       "\n",
       "    .dataframe thead th {\n",
       "        text-align: right;\n",
       "    }\n",
       "</style>\n",
       "<table border=\"1\" class=\"dataframe\">\n",
       "  <thead>\n",
       "    <tr style=\"text-align: right;\">\n",
       "      <th></th>\n",
       "      <th>primary_poc</th>\n",
       "      <th>first_name</th>\n",
       "      <th>last_name</th>\n",
       "    </tr>\n",
       "  </thead>\n",
       "  <tbody>\n",
       "    <tr>\n",
       "      <th>0</th>\n",
       "      <td>Tamara Tuma</td>\n",
       "      <td>Tamara</td>\n",
       "      <td>Tuma</td>\n",
       "    </tr>\n",
       "    <tr>\n",
       "      <th>1</th>\n",
       "      <td>Sung Shields</td>\n",
       "      <td>Sung</td>\n",
       "      <td>Shields</td>\n",
       "    </tr>\n",
       "    <tr>\n",
       "      <th>2</th>\n",
       "      <td>Jodee Lupo</td>\n",
       "      <td>Jodee</td>\n",
       "      <td>Lupo</td>\n",
       "    </tr>\n",
       "    <tr>\n",
       "      <th>3</th>\n",
       "      <td>Serafina Banda</td>\n",
       "      <td>Serafina</td>\n",
       "      <td>Banda</td>\n",
       "    </tr>\n",
       "    <tr>\n",
       "      <th>4</th>\n",
       "      <td>Angeles Crusoe</td>\n",
       "      <td>Angeles</td>\n",
       "      <td>Crusoe</td>\n",
       "    </tr>\n",
       "  </tbody>\n",
       "</table>\n",
       "</div>"
      ],
      "text/plain": [
       "      primary_poc first_name last_name\n",
       "0     Tamara Tuma     Tamara      Tuma\n",
       "1    Sung Shields       Sung   Shields\n",
       "2      Jodee Lupo      Jodee      Lupo\n",
       "3  Serafina Banda   Serafina     Banda\n",
       "4  Angeles Crusoe    Angeles    Crusoe"
      ]
     },
     "execution_count": 56,
     "metadata": {},
     "output_type": "execute_result"
    }
   ],
   "source": [
    "com = readcom(exercise)\n",
    "result = Query.execute(com)\n",
    "result.head()"
   ]
  },
  {
   "cell_type": "markdown",
   "id": "ea080d53",
   "metadata": {},
   "source": [
    "2. Now see if you can do the same thing for every rep name in the sales_reps table. Again provide first and last name columns.\n",
    "```SQL\n",
    "SELECT\n",
    "    s.name,\n",
    "    substr(s.name, 1, instr(s.name,' ')-1) AS first_name,\n",
    "    substr(s.name, instr(s.name,' ')+1) AS last_name\n",
    "FROM sales_reps s;\n",
    "```"
   ]
  },
  {
   "cell_type": "code",
   "execution_count": 54,
   "id": "38eb875a",
   "metadata": {},
   "outputs": [
    {
     "name": "stdout",
     "output_type": "stream",
     "text": [
      "SELECT\n",
      "    s.name,\n",
      "    substr(s.name, 1, instr(s.name,' ')-1) AS first_name,\n",
      "    substr(s.name, instr(s.name,' ')+1) AS last_name\n",
      "FROM sales_reps s\n"
     ]
    },
    {
     "data": {
      "text/html": [
       "<div>\n",
       "<style scoped>\n",
       "    .dataframe tbody tr th:only-of-type {\n",
       "        vertical-align: middle;\n",
       "    }\n",
       "\n",
       "    .dataframe tbody tr th {\n",
       "        vertical-align: top;\n",
       "    }\n",
       "\n",
       "    .dataframe thead th {\n",
       "        text-align: right;\n",
       "    }\n",
       "</style>\n",
       "<table border=\"1\" class=\"dataframe\">\n",
       "  <thead>\n",
       "    <tr style=\"text-align: right;\">\n",
       "      <th></th>\n",
       "      <th>name</th>\n",
       "      <th>first_name</th>\n",
       "      <th>last_name</th>\n",
       "    </tr>\n",
       "  </thead>\n",
       "  <tbody>\n",
       "    <tr>\n",
       "      <th>0</th>\n",
       "      <td>Samuel Racine</td>\n",
       "      <td>Samuel</td>\n",
       "      <td>Racine</td>\n",
       "    </tr>\n",
       "    <tr>\n",
       "      <th>1</th>\n",
       "      <td>Eugena Esser</td>\n",
       "      <td>Eugena</td>\n",
       "      <td>Esser</td>\n",
       "    </tr>\n",
       "    <tr>\n",
       "      <th>2</th>\n",
       "      <td>Michel Averette</td>\n",
       "      <td>Michel</td>\n",
       "      <td>Averette</td>\n",
       "    </tr>\n",
       "    <tr>\n",
       "      <th>3</th>\n",
       "      <td>Renetta Carew</td>\n",
       "      <td>Renetta</td>\n",
       "      <td>Carew</td>\n",
       "    </tr>\n",
       "    <tr>\n",
       "      <th>4</th>\n",
       "      <td>Cara Clarke</td>\n",
       "      <td>Cara</td>\n",
       "      <td>Clarke</td>\n",
       "    </tr>\n",
       "  </tbody>\n",
       "</table>\n",
       "</div>"
      ],
      "text/plain": [
       "              name first_name last_name\n",
       "0    Samuel Racine     Samuel    Racine\n",
       "1     Eugena Esser     Eugena     Esser\n",
       "2  Michel Averette     Michel  Averette\n",
       "3    Renetta Carew    Renetta     Carew\n",
       "4      Cara Clarke       Cara    Clarke"
      ]
     },
     "execution_count": 54,
     "metadata": {},
     "output_type": "execute_result"
    }
   ],
   "source": [
    "com = readcom(exercise)\n",
    "result = Query.execute(com)\n",
    "result.head()"
   ]
  },
  {
   "cell_type": "markdown",
   "id": "8e42be9d",
   "metadata": {},
   "source": [
    "## CONCAT\n",
    "1. CONCAT\n",
    "2. Piping `||`  \n",
    "\n",
    "Each of these will <mark>allow you to combine columns together across rows</mark>. In this video, you saw how first and last names stored in separate columns could be combined together to create a full name: `CONCAT(first_name, ' ', last_name)` or with piping as `first_name || ' ' || last_name`."
   ]
  },
  {
   "cell_type": "markdown",
   "id": "4d110c85",
   "metadata": {},
   "source": [
    "## Exercise\n",
    "1. Each company in the accounts table wants to create an email address for each primary_poc. The email address should be the first name of the primary_poc . last name primary_poc @ company name .com.\n",
    "```SQL\n",
    "WITH split AS (\n",
    "    SELECT\n",
    "        a.name AS company,\n",
    "        substr(a.primary_poc,1,instr(a.primary_poc,' ')-1) AS first_name,\n",
    "        substr(a.primary_poc,instr(a.primary_poc,' ')+1) AS last_name\n",
    "    FROM accounts a)\n",
    "SELECT \n",
    "    first_name ||'.'||last_name||'@'||LOWER(company)||'.com' AS email_address\n",
    "FROM split;\n",
    "```"
   ]
  },
  {
   "cell_type": "code",
   "execution_count": 69,
   "id": "a6d48b96",
   "metadata": {},
   "outputs": [
    {
     "name": "stdout",
     "output_type": "stream",
     "text": [
      "WITH split AS (\n",
      "    SELECT\n",
      "        a.name AS company,\n",
      "        substr(a.primary_poc,1,instr(a.primary_poc,' ')-1) AS first_name,\n",
      "        substr(a.primary_poc,instr(a.primary_poc,' ')+1) AS last_name\n",
      "    FROM accounts a)\n",
      "SELECT \n",
      "    first_name ||'.'||last_name||'@'||LOWER(company)||'.com' AS email_address\n",
      "FROM split\n"
     ]
    },
    {
     "data": {
      "text/html": [
       "<div>\n",
       "<style scoped>\n",
       "    .dataframe tbody tr th:only-of-type {\n",
       "        vertical-align: middle;\n",
       "    }\n",
       "\n",
       "    .dataframe tbody tr th {\n",
       "        vertical-align: top;\n",
       "    }\n",
       "\n",
       "    .dataframe thead th {\n",
       "        text-align: right;\n",
       "    }\n",
       "</style>\n",
       "<table border=\"1\" class=\"dataframe\">\n",
       "  <thead>\n",
       "    <tr style=\"text-align: right;\">\n",
       "      <th></th>\n",
       "      <th>email_address</th>\n",
       "    </tr>\n",
       "  </thead>\n",
       "  <tbody>\n",
       "    <tr>\n",
       "      <th>0</th>\n",
       "      <td>Tamara.Tuma@walmart.com</td>\n",
       "    </tr>\n",
       "    <tr>\n",
       "      <th>1</th>\n",
       "      <td>Sung.Shields@exxon mobil.com</td>\n",
       "    </tr>\n",
       "    <tr>\n",
       "      <th>2</th>\n",
       "      <td>Jodee.Lupo@apple.com</td>\n",
       "    </tr>\n",
       "    <tr>\n",
       "      <th>3</th>\n",
       "      <td>Serafina.Banda@berkshire hathaway.com</td>\n",
       "    </tr>\n",
       "    <tr>\n",
       "      <th>4</th>\n",
       "      <td>Angeles.Crusoe@mckesson.com</td>\n",
       "    </tr>\n",
       "  </tbody>\n",
       "</table>\n",
       "</div>"
      ],
      "text/plain": [
       "                           email_address\n",
       "0                Tamara.Tuma@walmart.com\n",
       "1           Sung.Shields@exxon mobil.com\n",
       "2                   Jodee.Lupo@apple.com\n",
       "3  Serafina.Banda@berkshire hathaway.com\n",
       "4            Angeles.Crusoe@mckesson.com"
      ]
     },
     "execution_count": 69,
     "metadata": {},
     "output_type": "execute_result"
    }
   ],
   "source": [
    "com = readcom(exercise)\n",
    "result = Query.execute(com)\n",
    "result.head()"
   ]
  },
  {
   "cell_type": "markdown",
   "id": "6cd3df23",
   "metadata": {},
   "source": [
    "2. You may have noticed that in the previous solution some of the company names include spaces, which will certainly not work in an email address. See if you can create an email address that will work by removing all of the spaces in the account name, but otherwise your solution should be just as in question 1. Some helpful documentation is here.\n",
    "```SQL\n",
    "WITH split AS (\n",
    "    SELECT\n",
    "        a.name AS company,\n",
    "        substr(a.primary_poc,1,instr(a.primary_poc,' ')-1) AS first_name,\n",
    "        substr(a.primary_poc,instr(a.primary_poc,' ')+1) AS last_name\n",
    "    FROM accounts a)\n",
    "SELECT \n",
    "    first_name ||'.'||last_name||'@'||REPLACE(LOWER(company),' ','')||'.com' AS email_address\n",
    "FROM split;\n",
    "```"
   ]
  },
  {
   "cell_type": "code",
   "execution_count": 70,
   "id": "ebb74fff",
   "metadata": {},
   "outputs": [
    {
     "name": "stdout",
     "output_type": "stream",
     "text": [
      "WITH split AS (\n",
      "    SELECT\n",
      "        a.name AS company,\n",
      "        substr(a.primary_poc,1,instr(a.primary_poc,' ')-1) AS first_name,\n",
      "        substr(a.primary_poc,instr(a.primary_poc,' ')+1) AS last_name\n",
      "    FROM accounts a)\n",
      "SELECT \n",
      "    first_name ||'.'||last_name||'@'||REPLACE(LOWER(company),' ','')||'.com' AS email_address\n",
      "FROM split\n"
     ]
    },
    {
     "data": {
      "text/html": [
       "<div>\n",
       "<style scoped>\n",
       "    .dataframe tbody tr th:only-of-type {\n",
       "        vertical-align: middle;\n",
       "    }\n",
       "\n",
       "    .dataframe tbody tr th {\n",
       "        vertical-align: top;\n",
       "    }\n",
       "\n",
       "    .dataframe thead th {\n",
       "        text-align: right;\n",
       "    }\n",
       "</style>\n",
       "<table border=\"1\" class=\"dataframe\">\n",
       "  <thead>\n",
       "    <tr style=\"text-align: right;\">\n",
       "      <th></th>\n",
       "      <th>email_address</th>\n",
       "    </tr>\n",
       "  </thead>\n",
       "  <tbody>\n",
       "    <tr>\n",
       "      <th>0</th>\n",
       "      <td>Tamara.Tuma@walmart.com</td>\n",
       "    </tr>\n",
       "    <tr>\n",
       "      <th>1</th>\n",
       "      <td>Sung.Shields@exxonmobil.com</td>\n",
       "    </tr>\n",
       "    <tr>\n",
       "      <th>2</th>\n",
       "      <td>Jodee.Lupo@apple.com</td>\n",
       "    </tr>\n",
       "    <tr>\n",
       "      <th>3</th>\n",
       "      <td>Serafina.Banda@berkshirehathaway.com</td>\n",
       "    </tr>\n",
       "    <tr>\n",
       "      <th>4</th>\n",
       "      <td>Angeles.Crusoe@mckesson.com</td>\n",
       "    </tr>\n",
       "  </tbody>\n",
       "</table>\n",
       "</div>"
      ],
      "text/plain": [
       "                          email_address\n",
       "0               Tamara.Tuma@walmart.com\n",
       "1           Sung.Shields@exxonmobil.com\n",
       "2                  Jodee.Lupo@apple.com\n",
       "3  Serafina.Banda@berkshirehathaway.com\n",
       "4           Angeles.Crusoe@mckesson.com"
      ]
     },
     "execution_count": 70,
     "metadata": {},
     "output_type": "execute_result"
    }
   ],
   "source": [
    "com = readcom(exercise)\n",
    "result = Query.execute(com)\n",
    "result.head()"
   ]
  },
  {
   "cell_type": "markdown",
   "id": "c429a4b9",
   "metadata": {},
   "source": [
    "3. We would also like to create an initial password, which they will change after their first log in. The first password will be the first letter of the primary_poc's first name (lowercase), then the last letter of their first name (lowercase), the first letter of their last name (lowercase), the last letter of their last name (lowercase), the number of letters in their first name, the number of letters in their last name, and then the name of the company they are working with, all capitalized with no spaces.\n",
    "```SQL\n",
    "WITH split AS (\n",
    "    SELECT\n",
    "        UPPER(REPLACE(a.name,' ','')) AS company,\n",
    "        LOWER(substr(a.primary_poc,1,instr(a.primary_poc,' ')-1)) AS first_name,\n",
    "        LOWER(substr(a.primary_poc,instr(a.primary_poc,' ')+1)) AS last_name\n",
    "    FROM accounts a),\n",
    "code AS (\n",
    "    SELECT\n",
    "        company,\n",
    "        substr(first_name,1,1) AS c1,\n",
    "        substr(first_name,-1,1) AS c2,\n",
    "        substr(last_name,1,1) AS c3,\n",
    "        substr(last_name,-1,1) AS c4,\n",
    "        LENGTH(first_name) AS len1,\n",
    "        LENGTH(last_name) AS len2\n",
    "    FROM split)\n",
    "SELECT c1||c2||c3||c4||len1||len2||company AS password\n",
    "FROM code;\n",
    "```"
   ]
  },
  {
   "cell_type": "code",
   "execution_count": 74,
   "id": "60ce2cd4",
   "metadata": {},
   "outputs": [
    {
     "name": "stdout",
     "output_type": "stream",
     "text": [
      "WITH split AS (\n",
      "    SELECT\n",
      "        UPPER(REPLACE(a.name,' ','')) AS company,\n",
      "        LOWER(substr(a.primary_poc,1,instr(a.primary_poc,' ')-1)) AS first_name,\n",
      "        LOWER(substr(a.primary_poc,instr(a.primary_poc,' ')+1)) AS last_name\n",
      "    FROM accounts a),\n",
      "code AS (\n",
      "    SELECT\n",
      "        company,\n",
      "        substr(first_name,1,1) AS c1,\n",
      "        substr(first_name,-1,1) AS c2,\n",
      "        substr(last_name,1,1) AS c3,\n",
      "        substr(last_name,-1,1) AS c4,\n",
      "        LENGTH(first_name) AS len1,\n",
      "        LENGTH(last_name) AS len2\n",
      "    FROM split)\n",
      "SELECT c1||c2||c3||c4||len1||len2||company AS password\n",
      "FROM code\n"
     ]
    },
    {
     "data": {
      "text/html": [
       "<div>\n",
       "<style scoped>\n",
       "    .dataframe tbody tr th:only-of-type {\n",
       "        vertical-align: middle;\n",
       "    }\n",
       "\n",
       "    .dataframe tbody tr th {\n",
       "        vertical-align: top;\n",
       "    }\n",
       "\n",
       "    .dataframe thead th {\n",
       "        text-align: right;\n",
       "    }\n",
       "</style>\n",
       "<table border=\"1\" class=\"dataframe\">\n",
       "  <thead>\n",
       "    <tr style=\"text-align: right;\">\n",
       "      <th></th>\n",
       "      <th>password</th>\n",
       "    </tr>\n",
       "  </thead>\n",
       "  <tbody>\n",
       "    <tr>\n",
       "      <th>0</th>\n",
       "      <td>tata64WALMART</td>\n",
       "    </tr>\n",
       "    <tr>\n",
       "      <th>1</th>\n",
       "      <td>sgss47EXXONMOBIL</td>\n",
       "    </tr>\n",
       "    <tr>\n",
       "      <th>2</th>\n",
       "      <td>jelo54APPLE</td>\n",
       "    </tr>\n",
       "    <tr>\n",
       "      <th>3</th>\n",
       "      <td>saba85BERKSHIREHATHAWAY</td>\n",
       "    </tr>\n",
       "    <tr>\n",
       "      <th>4</th>\n",
       "      <td>asce76MCKESSON</td>\n",
       "    </tr>\n",
       "  </tbody>\n",
       "</table>\n",
       "</div>"
      ],
      "text/plain": [
       "                  password\n",
       "0            tata64WALMART\n",
       "1         sgss47EXXONMOBIL\n",
       "2              jelo54APPLE\n",
       "3  saba85BERKSHIREHATHAWAY\n",
       "4           asce76MCKESSON"
      ]
     },
     "execution_count": 74,
     "metadata": {},
     "output_type": "execute_result"
    }
   ],
   "source": [
    "com = readcom(exercise)\n",
    "result = Query.execute(com)\n",
    "result.head()"
   ]
  },
  {
   "cell_type": "markdown",
   "id": "cdc02fe0",
   "metadata": {},
   "source": []
  },
  {
   "cell_type": "markdown",
   "id": "bacae2f3",
   "metadata": {},
   "source": []
  },
  {
   "cell_type": "code",
   "execution_count": null,
   "id": "cb476b2b",
   "metadata": {},
   "outputs": [],
   "source": [
    "com = readcom(exercise)\n",
    "result = Query.execute(com)\n",
    "result.head()"
   ]
  },
  {
   "cell_type": "markdown",
   "id": "3c67b29d",
   "metadata": {},
   "source": [
    "## Working with NULL\n",
    "The SQLite `ifnull()` function allows you to replace NULL values with another value.  \n",
    "It takes two arguments, and it returns a copy of its first non-NULL argument, or NULL if both arguments are NULL.  \n",
    "The `ifnull()` function is equivalent to coalesce() with two arguments.  \n",
    "\n",
    "\n",
    "\n",
    "|ProductId   |ProductName    |Price|SalesPrice|\n",
    "|:--:|:--:|:--:|:--:|\n",
    "|1           |Widget Holder  |139.5|121.3|\n",
    "|2           |Widget Stick   |89.75|78.65|\n",
    "|3           |Foo Cap        |11.99|8.99|\n",
    "|4           |Free Widget    |0.0|0.0|\n",
    "|5           |Free Foobar    |   |1.0|\n",
    "|6           |Free Beer      |   |   |\n",
    "\n",
    "\n",
    "\n",
    "### `ifnull()`\n",
    "```SQL\n",
    "SELECT\n",
    "  ProductId,\n",
    "  ProductName,\n",
    "  ifnull(Price, 0.0)\n",
    "FROM Products;\n",
    "```\n",
    "\n",
    "|ProductId   |ProductName    |Price|SalesPrice|\n",
    "|:--:|:--:|:--:|:--:|\n",
    "|1           |Widget Holder  |139.5|121.3|\n",
    "|2           |Widget Stick   |89.75|78.65|\n",
    "|3           |Foo Cap        |11.99|8.99|\n",
    "|4           |Free Widget    |0.0|0.0|\n",
    "|5           |Free Foobar    |0.0|1.0|\n",
    "|6           |Free Beer      |0.0|   |\n",
    "\n",
    "\n",
    "### `coalesce(X,Y,...)`\n",
    "The syntax goes like this:\n",
    "```SQL\n",
    "SELECT\n",
    "  ProductId,\n",
    "  ProductName,\n",
    "  coalesce(Price, SalesPrice, 0.0)\n",
    "FROM Products;\n",
    "```\n",
    "|ProductId   |ProductName    |Price|SalesPrice|\n",
    "|:--:|:--:|:--:|:--:|\n",
    "|1           |Widget Holder  |139.5|121.3|\n",
    "|2           |Widget Stick   |89.75|78.65|\n",
    "|3           |Foo Cap        |11.99|8.99|\n",
    "|4           |Free Widget    |0.0|0.0|\n",
    "|5           |Free Foobar    |1.0|1.0|\n",
    "|6           |Free Beer      |0.0|   |"
   ]
  },
  {
   "cell_type": "markdown",
   "id": "39cb2581",
   "metadata": {},
   "source": [
    "```SQL\n",
    "SELECT *\n",
    "\n",
    "FROM accounts a\n",
    "LEFT JOIN orders o ON o.account_id = a.id\n",
    "WHERE o.total IS NULL;\n",
    "```"
   ]
  },
  {
   "cell_type": "code",
   "execution_count": 83,
   "id": "fb7ff652",
   "metadata": {},
   "outputs": [
    {
     "name": "stdout",
     "output_type": "stream",
     "text": [
      "SELECT *\n",
      "FROM accounts a\n",
      "LEFT JOIN orders o\n",
      "ON a.id = o.account_id\n",
      "WHERE o.total IS NULL\n"
     ]
    },
    {
     "data": {
      "text/html": [
       "<div>\n",
       "<style scoped>\n",
       "    .dataframe tbody tr th:only-of-type {\n",
       "        vertical-align: middle;\n",
       "    }\n",
       "\n",
       "    .dataframe tbody tr th {\n",
       "        vertical-align: top;\n",
       "    }\n",
       "\n",
       "    .dataframe thead th {\n",
       "        text-align: right;\n",
       "    }\n",
       "</style>\n",
       "<table border=\"1\" class=\"dataframe\">\n",
       "  <thead>\n",
       "    <tr style=\"text-align: right;\">\n",
       "      <th></th>\n",
       "      <th>id</th>\n",
       "      <th>name</th>\n",
       "      <th>website</th>\n",
       "      <th>lat</th>\n",
       "      <th>long</th>\n",
       "      <th>primary_poc</th>\n",
       "      <th>sales_rep_id</th>\n",
       "      <th>id</th>\n",
       "      <th>account_id</th>\n",
       "      <th>occurred_at</th>\n",
       "      <th>standard_qty</th>\n",
       "      <th>gloss_qty</th>\n",
       "      <th>poster_qty</th>\n",
       "      <th>total</th>\n",
       "      <th>standard_amt_usd</th>\n",
       "      <th>gloss_amt_usd</th>\n",
       "      <th>poster_amt_usd</th>\n",
       "      <th>total_amt_usd</th>\n",
       "    </tr>\n",
       "  </thead>\n",
       "  <tbody>\n",
       "    <tr>\n",
       "      <th>0</th>\n",
       "      <td>1731</td>\n",
       "      <td>Goldman Sachs Group</td>\n",
       "      <td>www.gs.com</td>\n",
       "      <td>40.757444</td>\n",
       "      <td>-73.967309</td>\n",
       "      <td>Loris Manfredi</td>\n",
       "      <td>321690</td>\n",
       "      <td>None</td>\n",
       "      <td>None</td>\n",
       "      <td>None</td>\n",
       "      <td>None</td>\n",
       "      <td>None</td>\n",
       "      <td>None</td>\n",
       "      <td>None</td>\n",
       "      <td>None</td>\n",
       "      <td>None</td>\n",
       "      <td>None</td>\n",
       "      <td>None</td>\n",
       "    </tr>\n",
       "  </tbody>\n",
       "</table>\n",
       "</div>"
      ],
      "text/plain": [
       "     id                 name     website        lat       long  \\\n",
       "0  1731  Goldman Sachs Group  www.gs.com  40.757444 -73.967309   \n",
       "\n",
       "      primary_poc  sales_rep_id    id account_id occurred_at standard_qty  \\\n",
       "0  Loris Manfredi        321690  None       None        None         None   \n",
       "\n",
       "  gloss_qty poster_qty total standard_amt_usd gloss_amt_usd poster_amt_usd  \\\n",
       "0      None       None  None             None          None           None   \n",
       "\n",
       "  total_amt_usd  \n",
       "0          None  "
      ]
     },
     "execution_count": 83,
     "metadata": {},
     "output_type": "execute_result"
    }
   ],
   "source": [
    "com = readcom(exercise)\n",
    "result = Query.execute(com)\n",
    "result.head()"
   ]
  },
  {
   "cell_type": "markdown",
   "id": "35cc7b90",
   "metadata": {},
   "source": [
    "MORE:  \n",
    "<mark>Memorizing all of this functionality isn't necessary</mark>, but you do need to be able to follow documentation, and learn from what you have done in solving previous problems to solve new problems.\n",
    "\n",
    "There are a few other functions that work similarly. You can read more about those [here][SQL NULL Functions]. You can also get a walk through of many of the functions you have seen throughout this lesson [here][Using SQL String Functions to Clean Data].\n",
    "\n",
    "[SQL NULL Functions]:https://www.w3schools.com/sql/sql_isnull.asp\n",
    "[Using SQL String Functions to Clean Data]:https://mode.com/sql-tutorial/sql-string-functions-for-cleaning/"
   ]
  }
 ],
 "metadata": {
  "kernelspec": {
   "display_name": "Python 3 (ipykernel)",
   "language": "python",
   "name": "python3"
  },
  "language_info": {
   "codemirror_mode": {
    "name": "ipython",
    "version": 3
   },
   "file_extension": ".py",
   "mimetype": "text/x-python",
   "name": "python",
   "nbconvert_exporter": "python",
   "pygments_lexer": "ipython3",
   "version": "3.7.6"
  }
 },
 "nbformat": 4,
 "nbformat_minor": 5
}
